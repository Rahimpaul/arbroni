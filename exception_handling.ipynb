{
 "cells": [
  {
   "cell_type": "markdown",
   "id": "isolated-catholic",
   "metadata": {},
   "source": [
    "# Exception Handling\n",
    "Define class Person with the followings:\n",
    "- A `passport_number` attribute. \n",
    "- A `name` attribute. \n",
    "- A `birthday` attribute. \n",
    "- An `email_address` attribute. \n",
    "- An `__init__` method.\n",
    "- A `__str__` method.\n",
    "- A `set_passport_number` method. It should set the passport number if the value contains 9 alphanumeric characters and its first character is a letter. Otherwise, a custom `InvalidPassportNumber` exception should be raised. \n",
    "- A `set_name` method. It should set the name if the value contains 3 to 20 letters. Otherwise, a custom `InvalidName` exception should be raised. \n",
    "- A `set_birthday` method. It should set the birthday if the value is a correct date formatted as `dd.mm.yyyy`. Otherwise, a custom `InvalidBirthday` exception should be raised. \n",
    "- A `set_email_address` method. It should set the email address if the value is formatted as a valid email address. Otherwise, a custom `InvalidEmailAddress` exception should be raised. \n",
    "- A `get_age` method. It should calculate an integer value between 0 and 120 as the current age. Otherwise, a custom `InvalidAge` exception should be raised. \n",
    "\n",
    "Instantiate a couple of Person objects. Use `try` and `except` blocks to catch the exceptions you have defined."
   ]
  },
  {
   "cell_type": "code",
   "execution_count": 2,
   "id": "c52c81ac",
   "metadata": {},
   "outputs": [],
   "source": [
    "import re\n",
    "import datetime\n",
    "\n",
    "class InvalidPassportNumber(Exception):\n",
    "    pass\n",
    "\n",
    "class InvalidName(Exception):\n",
    "    pass\n",
    "\n",
    "class InvalidBirthday(Exception):\n",
    "    pass\n",
    "\n",
    "class InvalidEmailAddress(Exception):\n",
    "    pass\n",
    "\n",
    "class InvalidAge(Exception):\n",
    "    pass\n",
    "\n",
    "class Person:\n",
    "    def __init__(self, passport_number, name, birthday, email_address):\n",
    "        self.set_passport_number(passport_number)\n",
    "        self.set_name(name)\n",
    "        self.set_birthday(birthday)\n",
    "        self.set_email_address(email_address)\n",
    "        \n",
    "    def __str__(self):\n",
    "        return f\"Passport Number: {self.passport_number}\\nName: {self.name}\\nBirthday: {self.birthday}\\nEmail Address: {self.email_address}\"\n",
    "        \n",
    "    def set_passport_number(self, passport_number):\n",
    "        if len(passport_number) != 9 or not re.match(\"^[a-zA-Z]\", passport_number):\n",
    "            raise InvalidPassportNumber(\"Invalid passport number.\")\n",
    "        self.passport_number = passport_number\n",
    "        \n",
    "    def set_name(self, name):\n",
    "        if not re.match(\"^[a-zA-Z]{3,20}$\", name):\n",
    "            raise InvalidName(\"Invalid name.\")\n",
    "        self.name = name\n",
    "        \n",
    "    def set_birthday(self, birthday):\n",
    "        try:\n",
    "            day, month, year = map(int, birthday.split(\".\"))\n",
    "            self.birthday = datetime.date(year, month, day)\n",
    "        except ValueError:\n",
    "            raise InvalidBirthday(\"Invalid birthday.\")\n",
    "        \n",
    "    def set_email_address(self, email_address):\n",
    "        if not re.match(r\"[^@]+@[^@]+\\.[^@]+\", email_address):\n",
    "            raise InvalidEmailAddress(\"Invalid email address.\")\n",
    "        self.email_address = email_address\n",
    "        \n",
    "    def get_age(self):\n",
    "        today = datetime.date.today()\n",
    "        age = today.year - self.birthday.year - ((today.month, today.day) < (self.birthday.month, self.birthday.day))\n",
    "        if age < 0 or age > 120:\n",
    "            raise InvalidAge(\"Invalid age.\")\n",
    "        return age\n"
   ]
  },
  {
   "cell_type": "code",
   "execution_count": 3,
   "id": "aa140208",
   "metadata": {},
   "outputs": [
    {
     "name": "stdout",
     "output_type": "stream",
     "text": [
      "Error: Invalid name.\n"
     ]
    }
   ],
   "source": [
    "try:\n",
    "    p1 = Person(\"A12345678\", \"John Doe\", \"01.01.1990\", \"johndoe@example.com\")\n",
    "    print(p1)\n",
    "    print(f\"Age: {p1.get_age()}\")\n",
    "\n",
    "    p2 = Person(\"123456789\", \"Jane Smith\", \"01.01.2005\", \"janesmith@example.com\")\n",
    "    print(p2)\n",
    "    print(f\"Age: {p2.get_age()}\")\n",
    "except (InvalidPassportNumber, InvalidName, InvalidBirthday, InvalidEmailAddress, InvalidAge) as e:\n",
    "    print(f\"Error: {e}\")\n"
   ]
  },
  {
   "cell_type": "code",
   "execution_count": null,
   "id": "d71003a8",
   "metadata": {},
   "outputs": [],
   "source": []
  }
 ],
 "metadata": {
  "kernelspec": {
   "display_name": "Python 3 (ipykernel)",
   "language": "python",
   "name": "python3"
  },
  "language_info": {
   "codemirror_mode": {
    "name": "ipython",
    "version": 3
   },
   "file_extension": ".py",
   "mimetype": "text/x-python",
   "name": "python",
   "nbconvert_exporter": "python",
   "pygments_lexer": "ipython3",
   "version": "3.9.12"
  }
 },
 "nbformat": 4,
 "nbformat_minor": 5
}
