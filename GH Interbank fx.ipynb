{
 "cells": [
  {
   "cell_type": "markdown",
   "id": "916d14f0",
   "metadata": {},
   "source": [
    "### Time Series Analysis of Interbank Fx Rate of Ghana Cedi against US Dollar\n",
    "                    using Decision Tree and Random Forest"
   ]
  },
  {
   "cell_type": "markdown",
   "id": "b643e316",
   "metadata": {},
   "source": [
    "#### Importing Libraries"
   ]
  },
  {
   "cell_type": "code",
   "execution_count": 47,
   "id": "d1461e8a",
   "metadata": {},
   "outputs": [],
   "source": [
    "import pandas as pd\n",
    "import numpy as np\n",
    "import matplotlib.pyplot as plt\n",
    "import seaborn as sns\n",
    "import warnings\n",
    "warnings.filterwarnings('ignore')\n",
    "\n",
    "from sklearn.model_selection import train_test_split\n",
    "from statsmodels.tsa.stattools import adfuller\n",
    "from sklearn.preprocessing import StandardScaler\n",
    "from sklearn.pipeline import make_pipeline\n",
    "from sklearn.model_selection import GridSearchCV\n",
    "from sklearn.linear_model import Lasso\n",
    "from sklearn.tree import DecisionTreeRegressor\n",
    "from sklearn.ensemble import RandomForestRegressor\n",
    "from sklearn.metrics import mean_absolute_error, mean_squared_error, r2_score\n",
    "from sklearn.tree import plot_tree"
   ]
  },
  {
   "cell_type": "markdown",
   "id": "bb454488",
   "metadata": {},
   "source": [
    "### Loading and Understanding the data"
   ]
  },
  {
   "cell_type": "code",
   "execution_count": 2,
   "id": "ba52934b",
   "metadata": {},
   "outputs": [],
   "source": [
    "fx = pd.read_csv('bankofghana_fxrates_2012-2022.csv')"
   ]
  },
  {
   "cell_type": "code",
   "execution_count": 3,
   "id": "bdf76b28",
   "metadata": {},
   "outputs": [
    {
     "data": {
      "text/html": [
       "<div>\n",
       "<style scoped>\n",
       "    .dataframe tbody tr th:only-of-type {\n",
       "        vertical-align: middle;\n",
       "    }\n",
       "\n",
       "    .dataframe tbody tr th {\n",
       "        vertical-align: top;\n",
       "    }\n",
       "\n",
       "    .dataframe thead th {\n",
       "        text-align: right;\n",
       "    }\n",
       "</style>\n",
       "<table border=\"1\" class=\"dataframe\">\n",
       "  <thead>\n",
       "    <tr style=\"text-align: right;\">\n",
       "      <th></th>\n",
       "      <th>Date</th>\n",
       "      <th>Currency</th>\n",
       "      <th>Currency Pair</th>\n",
       "      <th>Buying</th>\n",
       "      <th>Selling</th>\n",
       "      <th>Mid Rate</th>\n",
       "    </tr>\n",
       "  </thead>\n",
       "  <tbody>\n",
       "    <tr>\n",
       "      <th>0</th>\n",
       "      <td>31 Jan 2022</td>\n",
       "      <td>US Dollar</td>\n",
       "      <td>USDGHS</td>\n",
       "      <td>6.0206</td>\n",
       "      <td>6.0266</td>\n",
       "      <td>6.0236</td>\n",
       "    </tr>\n",
       "    <tr>\n",
       "      <th>1</th>\n",
       "      <td>28 Jan 2022</td>\n",
       "      <td>US Dollar</td>\n",
       "      <td>USDGHS</td>\n",
       "      <td>6.0196</td>\n",
       "      <td>6.0256</td>\n",
       "      <td>6.0226</td>\n",
       "    </tr>\n",
       "    <tr>\n",
       "      <th>2</th>\n",
       "      <td>27 Jan 2022</td>\n",
       "      <td>US Dollar</td>\n",
       "      <td>USDGHS</td>\n",
       "      <td>6.0196</td>\n",
       "      <td>6.0256</td>\n",
       "      <td>6.0226</td>\n",
       "    </tr>\n",
       "    <tr>\n",
       "      <th>3</th>\n",
       "      <td>26 Jan 2022</td>\n",
       "      <td>US Dollar</td>\n",
       "      <td>USDGHS</td>\n",
       "      <td>6.0094</td>\n",
       "      <td>6.0154</td>\n",
       "      <td>6.0124</td>\n",
       "    </tr>\n",
       "    <tr>\n",
       "      <th>4</th>\n",
       "      <td>25 Jan 2022</td>\n",
       "      <td>US Dollar</td>\n",
       "      <td>USDGHS</td>\n",
       "      <td>6.0079</td>\n",
       "      <td>6.0139</td>\n",
       "      <td>6.0109</td>\n",
       "    </tr>\n",
       "  </tbody>\n",
       "</table>\n",
       "</div>"
      ],
      "text/plain": [
       "          Date   Currency Currency Pair  Buying Selling Mid Rate\n",
       "0  31 Jan 2022  US Dollar        USDGHS  6.0206  6.0266   6.0236\n",
       "1  28 Jan 2022  US Dollar        USDGHS  6.0196  6.0256   6.0226\n",
       "2  27 Jan 2022  US Dollar        USDGHS  6.0196  6.0256   6.0226\n",
       "3  26 Jan 2022  US Dollar        USDGHS  6.0094  6.0154   6.0124\n",
       "4  25 Jan 2022  US Dollar        USDGHS  6.0079  6.0139   6.0109"
      ]
     },
     "execution_count": 3,
     "metadata": {},
     "output_type": "execute_result"
    }
   ],
   "source": [
    "fx.head()"
   ]
  },
  {
   "cell_type": "code",
   "execution_count": 4,
   "id": "68d4c163",
   "metadata": {},
   "outputs": [
    {
     "data": {
      "text/html": [
       "<div>\n",
       "<style scoped>\n",
       "    .dataframe tbody tr th:only-of-type {\n",
       "        vertical-align: middle;\n",
       "    }\n",
       "\n",
       "    .dataframe tbody tr th {\n",
       "        vertical-align: top;\n",
       "    }\n",
       "\n",
       "    .dataframe thead th {\n",
       "        text-align: right;\n",
       "    }\n",
       "</style>\n",
       "<table border=\"1\" class=\"dataframe\">\n",
       "  <thead>\n",
       "    <tr style=\"text-align: right;\">\n",
       "      <th></th>\n",
       "      <th>Date</th>\n",
       "      <th>Currency</th>\n",
       "      <th>Currency Pair</th>\n",
       "      <th>Buying</th>\n",
       "      <th>Selling</th>\n",
       "      <th>Mid Rate</th>\n",
       "    </tr>\n",
       "  </thead>\n",
       "  <tbody>\n",
       "    <tr>\n",
       "      <th>2493</th>\n",
       "      <td>09 Jan 2012</td>\n",
       "      <td>US Dollar</td>\n",
       "      <td>USDGHS</td>\n",
       "      <td>1.5700</td>\n",
       "      <td>1.6067</td>\n",
       "      <td>1.5884</td>\n",
       "    </tr>\n",
       "    <tr>\n",
       "      <th>2494</th>\n",
       "      <td>06 Jan 2012</td>\n",
       "      <td>US Dollar</td>\n",
       "      <td>USDGHS</td>\n",
       "      <td>1.5696</td>\n",
       "      <td>1.6063</td>\n",
       "      <td>1.5880</td>\n",
       "    </tr>\n",
       "    <tr>\n",
       "      <th>2495</th>\n",
       "      <td>05 Jan 2012</td>\n",
       "      <td>US Dollar</td>\n",
       "      <td>USDGHS</td>\n",
       "      <td>1.5675</td>\n",
       "      <td>1.6042</td>\n",
       "      <td>1.5859</td>\n",
       "    </tr>\n",
       "    <tr>\n",
       "      <th>2496</th>\n",
       "      <td>04 Jan 2012</td>\n",
       "      <td>US Dollar</td>\n",
       "      <td>USDGHS</td>\n",
       "      <td>1.5657</td>\n",
       "      <td>1.6024</td>\n",
       "      <td>1.5841</td>\n",
       "    </tr>\n",
       "    <tr>\n",
       "      <th>2497</th>\n",
       "      <td>03 Jan 2012</td>\n",
       "      <td>US Dollar</td>\n",
       "      <td>USDGHS</td>\n",
       "      <td>1.5657</td>\n",
       "      <td>1.6024</td>\n",
       "      <td>1.5841</td>\n",
       "    </tr>\n",
       "  </tbody>\n",
       "</table>\n",
       "</div>"
      ],
      "text/plain": [
       "             Date   Currency Currency Pair  Buying Selling Mid Rate\n",
       "2493  09 Jan 2012  US Dollar        USDGHS  1.5700  1.6067   1.5884\n",
       "2494  06 Jan 2012  US Dollar        USDGHS  1.5696  1.6063   1.5880\n",
       "2495  05 Jan 2012  US Dollar        USDGHS  1.5675  1.6042   1.5859\n",
       "2496  04 Jan 2012  US Dollar        USDGHS  1.5657  1.6024   1.5841\n",
       "2497  03 Jan 2012  US Dollar        USDGHS  1.5657  1.6024   1.5841"
      ]
     },
     "execution_count": 4,
     "metadata": {},
     "output_type": "execute_result"
    }
   ],
   "source": [
    "fx.tail()"
   ]
  },
  {
   "cell_type": "markdown",
   "id": "0289e757",
   "metadata": {},
   "source": [
    "**The data includes information about:**\n",
    "* **Date** – Daily basis transactions are captured\n",
    "\n",
    "* **Currency** – The column is for the individual foreign currencies\n",
    "\n",
    "* **Currency Pair** - This is the combination of the Ghana Cedi and the US Dollar\n",
    "\n",
    "* **Buying** – Buying rate at the end of each working day\n",
    "\n",
    "* **Selling** – Selling rate at the biggining of each working day\n",
    "* **Mid Rate** – Mid rate\n",
    "\n",
    "Source of dataset: https://www.bog.gov.gh/treasury-and-the-markets/daily-interbank-fx-rates/\n"
   ]
  },
  {
   "cell_type": "markdown",
   "id": "f5171904",
   "metadata": {},
   "source": [
    "### Exploratory Data Analysis"
   ]
  },
  {
   "cell_type": "code",
   "execution_count": 5,
   "id": "d79ed693",
   "metadata": {},
   "outputs": [
    {
     "name": "stdout",
     "output_type": "stream",
     "text": [
      "Number of rows and columns:\n"
     ]
    },
    {
     "data": {
      "text/plain": [
       "(2498, 6)"
      ]
     },
     "execution_count": 5,
     "metadata": {},
     "output_type": "execute_result"
    }
   ],
   "source": [
    "print('Number of rows and columns:')\n",
    "fx.shape"
   ]
  },
  {
   "cell_type": "code",
   "execution_count": 6,
   "id": "38ab2245",
   "metadata": {},
   "outputs": [
    {
     "name": "stdout",
     "output_type": "stream",
     "text": [
      "Data types:\n"
     ]
    },
    {
     "data": {
      "text/plain": [
       "Date              object\n",
       "Currency          object\n",
       "Currency Pair     object\n",
       "Buying           float64\n",
       "Selling           object\n",
       "Mid Rate          object\n",
       "dtype: object"
      ]
     },
     "execution_count": 6,
     "metadata": {},
     "output_type": "execute_result"
    }
   ],
   "source": [
    "print('Data types:')\n",
    "fx.dtypes"
   ]
  },
  {
   "cell_type": "code",
   "execution_count": 7,
   "id": "6f0c08bb",
   "metadata": {},
   "outputs": [
    {
     "name": "stdout",
     "output_type": "stream",
     "text": [
      "Missing values:\n"
     ]
    },
    {
     "data": {
      "text/plain": [
       "Date             0\n",
       "Currency         0\n",
       "Currency Pair    0\n",
       "Buying           0\n",
       "Selling          0\n",
       "Mid Rate         0\n",
       "dtype: int64"
      ]
     },
     "execution_count": 7,
     "metadata": {},
     "output_type": "execute_result"
    }
   ],
   "source": [
    "print('Missing values:')\n",
    "fx.isnull().sum()"
   ]
  },
  {
   "cell_type": "code",
   "execution_count": 8,
   "id": "4b0bce7f",
   "metadata": {},
   "outputs": [],
   "source": [
    "fx.drop(columns=['Currency'], inplace=True)\n",
    "fx.drop(columns=['Currency Pair'], inplace=True)"
   ]
  },
  {
   "cell_type": "markdown",
   "id": "dd4e2465",
   "metadata": {},
   "source": []
  },
  {
   "cell_type": "code",
   "execution_count": 9,
   "id": "d3698d50",
   "metadata": {},
   "outputs": [],
   "source": [
    "fx['Selling'] = pd.to_numeric(fx['Selling'], errors='coerce')\n",
    "fx['Buying'] = pd.to_numeric(fx['Buying'], errors='coerce')\n",
    "fx['Mid Rate'] = pd.to_numeric(fx['Mid Rate'], errors='coerce')"
   ]
  },
  {
   "cell_type": "code",
   "execution_count": 10,
   "id": "118cbb0f",
   "metadata": {},
   "outputs": [],
   "source": [
    "fx['Date'] = pd.to_datetime(fx['Date'])\n",
    "fx['Year'] = fx['Date'].dt.year\n",
    "fx['Month'] = fx['Date'].dt.month\n",
    "fx['Week'] = fx['Date'].dt.week\n",
    "fx['Day'] = fx['Date'].dt.day\n",
    "fx['DayofWeek'] = fx['Date'].dt.dayofweek"
   ]
  },
  {
   "cell_type": "code",
   "execution_count": 11,
   "id": "84425dcc",
   "metadata": {},
   "outputs": [],
   "source": [
    "rolling_mean_sel = fx['Selling'].rolling(window=30).mean()\n",
    "rolling_mean_buy = fx['Buying'].rolling(window=30).mean()\n",
    "rolling_mean_mid = fx['Mid Rate'].rolling(window=30).mean()\n",
    "rolling_std_sel = fx['Selling'].rolling(window=30).std()\n",
    "rolling_std_buy = fx['Buying'].rolling(window=30).std()\n",
    "rolling_std_mid = fx['Mid Rate'].rolling(window=30).std()"
   ]
  },
  {
   "cell_type": "code",
   "execution_count": 12,
   "id": "f7158965",
   "metadata": {},
   "outputs": [
    {
     "data": {
      "text/html": [
       "<div>\n",
       "<style scoped>\n",
       "    .dataframe tbody tr th:only-of-type {\n",
       "        vertical-align: middle;\n",
       "    }\n",
       "\n",
       "    .dataframe tbody tr th {\n",
       "        vertical-align: top;\n",
       "    }\n",
       "\n",
       "    .dataframe thead th {\n",
       "        text-align: right;\n",
       "    }\n",
       "</style>\n",
       "<table border=\"1\" class=\"dataframe\">\n",
       "  <thead>\n",
       "    <tr style=\"text-align: right;\">\n",
       "      <th></th>\n",
       "      <th>Buying</th>\n",
       "      <th>Selling</th>\n",
       "      <th>Mid Rate</th>\n",
       "      <th>Year</th>\n",
       "      <th>Month</th>\n",
       "      <th>Week</th>\n",
       "      <th>Day</th>\n",
       "      <th>DayofWeek</th>\n",
       "    </tr>\n",
       "  </thead>\n",
       "  <tbody>\n",
       "    <tr>\n",
       "      <th>count</th>\n",
       "      <td>2498.000000</td>\n",
       "      <td>2496.000000</td>\n",
       "      <td>2496.000000</td>\n",
       "      <td>2498.000000</td>\n",
       "      <td>2498.000000</td>\n",
       "      <td>2498.000000</td>\n",
       "      <td>2498.000000</td>\n",
       "      <td>2498.000000</td>\n",
       "    </tr>\n",
       "    <tr>\n",
       "      <th>mean</th>\n",
       "      <td>4.000041</td>\n",
       "      <td>4.009091</td>\n",
       "      <td>4.005405</td>\n",
       "      <td>2016.544836</td>\n",
       "      <td>6.464772</td>\n",
       "      <td>26.333066</td>\n",
       "      <td>15.884307</td>\n",
       "      <td>2.008807</td>\n",
       "    </tr>\n",
       "    <tr>\n",
       "      <th>std</th>\n",
       "      <td>1.360190</td>\n",
       "      <td>1.355370</td>\n",
       "      <td>1.357406</td>\n",
       "      <td>2.901499</td>\n",
       "      <td>3.459208</td>\n",
       "      <td>15.073082</td>\n",
       "      <td>8.690780</td>\n",
       "      <td>1.398810</td>\n",
       "    </tr>\n",
       "    <tr>\n",
       "      <th>min</th>\n",
       "      <td>0.000000</td>\n",
       "      <td>0.000000</td>\n",
       "      <td>0.000000</td>\n",
       "      <td>2012.000000</td>\n",
       "      <td>1.000000</td>\n",
       "      <td>1.000000</td>\n",
       "      <td>1.000000</td>\n",
       "      <td>0.000000</td>\n",
       "    </tr>\n",
       "    <tr>\n",
       "      <th>25%</th>\n",
       "      <td>3.021900</td>\n",
       "      <td>3.031825</td>\n",
       "      <td>3.030600</td>\n",
       "      <td>2014.000000</td>\n",
       "      <td>3.000000</td>\n",
       "      <td>13.000000</td>\n",
       "      <td>9.000000</td>\n",
       "      <td>1.000000</td>\n",
       "    </tr>\n",
       "    <tr>\n",
       "      <th>50%</th>\n",
       "      <td>4.204350</td>\n",
       "      <td>4.209300</td>\n",
       "      <td>4.207200</td>\n",
       "      <td>2017.000000</td>\n",
       "      <td>6.500000</td>\n",
       "      <td>26.000000</td>\n",
       "      <td>16.000000</td>\n",
       "      <td>2.000000</td>\n",
       "    </tr>\n",
       "    <tr>\n",
       "      <th>75%</th>\n",
       "      <td>5.255275</td>\n",
       "      <td>5.260600</td>\n",
       "      <td>5.258000</td>\n",
       "      <td>2019.000000</td>\n",
       "      <td>9.750000</td>\n",
       "      <td>39.750000</td>\n",
       "      <td>23.000000</td>\n",
       "      <td>3.000000</td>\n",
       "    </tr>\n",
       "    <tr>\n",
       "      <th>max</th>\n",
       "      <td>6.020600</td>\n",
       "      <td>6.026600</td>\n",
       "      <td>6.023600</td>\n",
       "      <td>2022.000000</td>\n",
       "      <td>12.000000</td>\n",
       "      <td>53.000000</td>\n",
       "      <td>31.000000</td>\n",
       "      <td>4.000000</td>\n",
       "    </tr>\n",
       "  </tbody>\n",
       "</table>\n",
       "</div>"
      ],
      "text/plain": [
       "            Buying      Selling     Mid Rate         Year        Month  \\\n",
       "count  2498.000000  2496.000000  2496.000000  2498.000000  2498.000000   \n",
       "mean      4.000041     4.009091     4.005405  2016.544836     6.464772   \n",
       "std       1.360190     1.355370     1.357406     2.901499     3.459208   \n",
       "min       0.000000     0.000000     0.000000  2012.000000     1.000000   \n",
       "25%       3.021900     3.031825     3.030600  2014.000000     3.000000   \n",
       "50%       4.204350     4.209300     4.207200  2017.000000     6.500000   \n",
       "75%       5.255275     5.260600     5.258000  2019.000000     9.750000   \n",
       "max       6.020600     6.026600     6.023600  2022.000000    12.000000   \n",
       "\n",
       "              Week          Day    DayofWeek  \n",
       "count  2498.000000  2498.000000  2498.000000  \n",
       "mean     26.333066    15.884307     2.008807  \n",
       "std      15.073082     8.690780     1.398810  \n",
       "min       1.000000     1.000000     0.000000  \n",
       "25%      13.000000     9.000000     1.000000  \n",
       "50%      26.000000    16.000000     2.000000  \n",
       "75%      39.750000    23.000000     3.000000  \n",
       "max      53.000000    31.000000     4.000000  "
      ]
     },
     "execution_count": 12,
     "metadata": {},
     "output_type": "execute_result"
    }
   ],
   "source": [
    "fx.describe()"
   ]
  },
  {
   "cell_type": "markdown",
   "id": "891213d7",
   "metadata": {},
   "source": [
    "### Data Visualisation "
   ]
  },
  {
   "cell_type": "code",
   "execution_count": 13,
   "id": "d6f95acd",
   "metadata": {},
   "outputs": [
    {
     "data": {
      "image/png": "[encoded data removed]",
      "text/plain": [
       "<Figure size 864x432 with 1 Axes>"
      ]
     },
     "metadata": {
      "needs_background": "light"
     },
     "output_type": "display_data"
    }
   ],
   "source": [
    "plt.figure(figsize=(12,6))\n",
    "plt.plot(fx['Date'], fx['Selling'])\n",
    "plt.title('Interbank FX Rate between USD and GHS')\n",
    "plt.xlabel('Date')\n",
    "plt.ylabel('Selling (USDGHS)')\n",
    "plt.show()"
   ]
  },
  {
   "cell_type": "code",
   "execution_count": 14,
   "id": "9681912f",
   "metadata": {},
   "outputs": [
    {
     "data": {
      "image/png": "[encoded data removed]",
      "text/plain": [
       "<Figure size 864x432 with 1 Axes>"
      ]
     },
     "metadata": {
      "needs_background": "light"
     },
     "output_type": "display_data"
    }
   ],
   "source": [
    "plt.figure(figsize=(12,6))\n",
    "plt.plot(fx['Date'], fx['Buying'])\n",
    "plt.title('Interbank FX Rate between USD and GHS')\n",
    "plt.xlabel('Date')\n",
    "plt.ylabel('Buying (USDGHS)')\n",
    "plt.show()"
   ]
  },
  {
   "cell_type": "code",
   "execution_count": 15,
   "id": "74bb23e5",
   "metadata": {},
   "outputs": [
    {
     "data": {
      "image/png": "[encoded data removed]",
      "text/plain": [
       "<Figure size 864x432 with 1 Axes>"
      ]
     },
     "metadata": {
      "needs_background": "light"
     },
     "output_type": "display_data"
    }
   ],
   "source": [
    "plt.figure(figsize=(12,6))\n",
    "plt.plot(fx['Date'], fx['Mid Rate'])\n",
    "plt.title('Interbank FX Rate between USD and GHS')\n",
    "plt.xlabel('Date')\n",
    "plt.ylabel('Mid Rate (USDGHS)')\n",
    "plt.show()"
   ]
  },
  {
   "cell_type": "code",
   "execution_count": 16,
   "id": "b279c1cc",
   "metadata": {},
   "outputs": [
    {
     "data": {
      "image/png": "[encoded data removed]",
      "text/plain": [
       "<Figure size 576x432 with 1 Axes>"
      ]
     },
     "metadata": {
      "needs_background": "light"
     },
     "output_type": "display_data"
    }
   ],
   "source": [
    "plt.figure(figsize=(8,6))\n",
    "sns.kdeplot(fx['Selling'], shade=True)\n",
    "plt.title('Density Plot of Selling Rate')\n",
    "plt.xlabel('Selling (USDGHS)')\n",
    "plt.show()"
   ]
  },
  {
   "cell_type": "code",
   "execution_count": 17,
   "id": "5f6b83e5",
   "metadata": {},
   "outputs": [
    {
     "data": {
      "image/png": "[encoded data removed]",
      "text/plain": [
       "<Figure size 576x432 with 1 Axes>"
      ]
     },
     "metadata": {
      "needs_background": "light"
     },
     "output_type": "display_data"
    }
   ],
   "source": [
    "plt.figure(figsize=(8,6))\n",
    "sns.kdeplot(fx['Buying'], shade=True)\n",
    "plt.title('Density Plot of Buying Rate')\n",
    "plt.xlabel('Buying (USDGHS)')\n",
    "plt.show()"
   ]
  },
  {
   "cell_type": "code",
   "execution_count": 18,
   "id": "4a04737b",
   "metadata": {},
   "outputs": [
    {
     "data": {
      "image/png": "[encoded data removed]",
      "text/plain": [
       "<Figure size 576x432 with 1 Axes>"
      ]
     },
     "metadata": {
      "needs_background": "light"
     },
     "output_type": "display_data"
    }
   ],
   "source": [
    "plt.figure(figsize=(8,6))\n",
    "sns.kdeplot(fx['Mid Rate'], shade=True)\n",
    "plt.title('Density Plot of Mid Rate')\n",
    "plt.xlabel('Mid Rate (USDGHS)')\n",
    "plt.show()"
   ]
  },
  {
   "cell_type": "code",
   "execution_count": 19,
   "id": "6b361823",
   "metadata": {},
   "outputs": [
    {
     "data": {
      "image/png": "[encoded data removed]",
      "text/plain": [
       "<Figure size 720x360 with 1 Axes>"
      ]
     },
     "metadata": {
      "needs_background": "light"
     },
     "output_type": "display_data"
    }
   ],
   "source": [
    "fig, ax = plt.subplots(figsize=(10, 5))\n",
    "ax.plot(fx['Date'], fx['Selling'], label='Selling')\n",
    "ax.plot(fx['Date'], fx['Buying'], label='Buying')\n",
    "ax.plot(fx['Date'], fx['Mid Rate'], label='Mid Rate')\n",
    "ax.plot(fx['Date'], rolling_mean_sel, label='Selling Rolling Mean')\n",
    "ax.plot(fx['Date'], rolling_std_sel, label='Selling Rolling Std')\n",
    "ax.plot(fx['Date'], rolling_mean_buy, label='Buying Rolling Mean')\n",
    "ax.plot(fx['Date'], rolling_std_buy, label='Buying Rolling Std')\n",
    "ax.plot(fx['Date'], rolling_mean_mid, label='Mid Rate Rolling Mean')\n",
    "ax.plot(fx['Date'], rolling_std_mid, label='Mid Rate Rolling Std')\n",
    "ax.legend(loc='best')\n",
    "ax.set_xlabel('Date')\n",
    "ax.set_ylabel('Exchange Rate')\n",
    "ax.set_title('Interbank FX Rate Analysis Jan, 2012 - Dec, 2022')\n",
    "plt.show()"
   ]
  },
  {
   "cell_type": "code",
   "execution_count": 24,
   "id": "ffbf37dd",
   "metadata": {},
   "outputs": [
    {
     "data": {
      "image/png": "[encoded data removed]",
      "text/plain": [
       "<Figure size 576x216 with 1 Axes>"
      ]
     },
     "metadata": {
      "needs_background": "light"
     },
     "output_type": "display_data"
    },
    {
     "data": {
      "image/png": "[encoded data removed]",
      "text/plain": [
       "<Figure size 576x216 with 1 Axes>"
      ]
     },
     "metadata": {
      "needs_background": "light"
     },
     "output_type": "display_data"
    },
    {
     "data": {
      "image/png": "[encoded data removed]",
      "text/plain": [
       "<Figure size 576x216 with 1 Axes>"
      ]
     },
     "metadata": {
      "needs_background": "light"
     },
     "output_type": "display_data"
    }
   ],
   "source": [
    "def distplot(feature, frame, color='g'):\n",
    "    plt.figure(figsize=(8,3))\n",
    "    plt.title(\"Distribution for {}\".format(feature))\n",
    "    ax = sns.distplot(frame[feature], color= color)\n",
    "    \n",
    "num_cols = [\"Buying\", 'Selling', 'Mid Rate']\n",
    "for feat in num_cols: distplot(feat, fx)"
   ]
  },
  {
   "cell_type": "markdown",
   "id": "19d89c47",
   "metadata": {},
   "source": [
    "### Feature Engineering "
   ]
  },
  {
   "cell_type": "code",
   "execution_count": 25,
   "id": "a32ec354",
   "metadata": {},
   "outputs": [],
   "source": [
    "fx.set_index('Date', inplace=True)"
   ]
  },
  {
   "cell_type": "code",
   "execution_count": 27,
   "id": "eec174fb",
   "metadata": {},
   "outputs": [
    {
     "data": {
      "text/html": [
       "<div>\n",
       "<style scoped>\n",
       "    .dataframe tbody tr th:only-of-type {\n",
       "        vertical-align: middle;\n",
       "    }\n",
       "\n",
       "    .dataframe tbody tr th {\n",
       "        vertical-align: top;\n",
       "    }\n",
       "\n",
       "    .dataframe thead th {\n",
       "        text-align: right;\n",
       "    }\n",
       "</style>\n",
       "<table border=\"1\" class=\"dataframe\">\n",
       "  <thead>\n",
       "    <tr style=\"text-align: right;\">\n",
       "      <th></th>\n",
       "      <th>Buying</th>\n",
       "      <th>Selling</th>\n",
       "      <th>Mid Rate</th>\n",
       "      <th>Year</th>\n",
       "      <th>Month</th>\n",
       "      <th>Week</th>\n",
       "      <th>Day</th>\n",
       "      <th>DayofWeek</th>\n",
       "      <th>lag_1</th>\n",
       "      <th>lag_2</th>\n",
       "      <th>lag_3</th>\n",
       "      <th>lag_4</th>\n",
       "      <th>lag_5</th>\n",
       "      <th>lag_6</th>\n",
       "      <th>lag_7</th>\n",
       "      <th>lag_8</th>\n",
       "      <th>lag_9</th>\n",
       "      <th>lag_10</th>\n",
       "      <th>lag_11</th>\n",
       "      <th>lag_12</th>\n",
       "    </tr>\n",
       "    <tr>\n",
       "      <th>Date</th>\n",
       "      <th></th>\n",
       "      <th></th>\n",
       "      <th></th>\n",
       "      <th></th>\n",
       "      <th></th>\n",
       "      <th></th>\n",
       "      <th></th>\n",
       "      <th></th>\n",
       "      <th></th>\n",
       "      <th></th>\n",
       "      <th></th>\n",
       "      <th></th>\n",
       "      <th></th>\n",
       "      <th></th>\n",
       "      <th></th>\n",
       "      <th></th>\n",
       "      <th></th>\n",
       "      <th></th>\n",
       "      <th></th>\n",
       "      <th></th>\n",
       "    </tr>\n",
       "  </thead>\n",
       "  <tbody>\n",
       "    <tr>\n",
       "      <th>2022-01-31</th>\n",
       "      <td>6.0206</td>\n",
       "      <td>6.0266</td>\n",
       "      <td>6.0236</td>\n",
       "      <td>2022</td>\n",
       "      <td>1</td>\n",
       "      <td>5</td>\n",
       "      <td>31</td>\n",
       "      <td>0</td>\n",
       "      <td>NaN</td>\n",
       "      <td>NaN</td>\n",
       "      <td>NaN</td>\n",
       "      <td>NaN</td>\n",
       "      <td>NaN</td>\n",
       "      <td>NaN</td>\n",
       "      <td>NaN</td>\n",
       "      <td>NaN</td>\n",
       "      <td>NaN</td>\n",
       "      <td>NaN</td>\n",
       "      <td>NaN</td>\n",
       "      <td>NaN</td>\n",
       "    </tr>\n",
       "    <tr>\n",
       "      <th>2022-01-28</th>\n",
       "      <td>6.0196</td>\n",
       "      <td>6.0256</td>\n",
       "      <td>6.0226</td>\n",
       "      <td>2022</td>\n",
       "      <td>1</td>\n",
       "      <td>4</td>\n",
       "      <td>28</td>\n",
       "      <td>4</td>\n",
       "      <td>6.0236</td>\n",
       "      <td>NaN</td>\n",
       "      <td>NaN</td>\n",
       "      <td>NaN</td>\n",
       "      <td>NaN</td>\n",
       "      <td>NaN</td>\n",
       "      <td>NaN</td>\n",
       "      <td>NaN</td>\n",
       "      <td>NaN</td>\n",
       "      <td>NaN</td>\n",
       "      <td>NaN</td>\n",
       "      <td>NaN</td>\n",
       "    </tr>\n",
       "    <tr>\n",
       "      <th>2022-01-27</th>\n",
       "      <td>6.0196</td>\n",
       "      <td>6.0256</td>\n",
       "      <td>6.0226</td>\n",
       "      <td>2022</td>\n",
       "      <td>1</td>\n",
       "      <td>4</td>\n",
       "      <td>27</td>\n",
       "      <td>3</td>\n",
       "      <td>6.0226</td>\n",
       "      <td>6.0236</td>\n",
       "      <td>NaN</td>\n",
       "      <td>NaN</td>\n",
       "      <td>NaN</td>\n",
       "      <td>NaN</td>\n",
       "      <td>NaN</td>\n",
       "      <td>NaN</td>\n",
       "      <td>NaN</td>\n",
       "      <td>NaN</td>\n",
       "      <td>NaN</td>\n",
       "      <td>NaN</td>\n",
       "    </tr>\n",
       "    <tr>\n",
       "      <th>2022-01-26</th>\n",
       "      <td>6.0094</td>\n",
       "      <td>6.0154</td>\n",
       "      <td>6.0124</td>\n",
       "      <td>2022</td>\n",
       "      <td>1</td>\n",
       "      <td>4</td>\n",
       "      <td>26</td>\n",
       "      <td>2</td>\n",
       "      <td>6.0226</td>\n",
       "      <td>6.0226</td>\n",
       "      <td>6.0236</td>\n",
       "      <td>NaN</td>\n",
       "      <td>NaN</td>\n",
       "      <td>NaN</td>\n",
       "      <td>NaN</td>\n",
       "      <td>NaN</td>\n",
       "      <td>NaN</td>\n",
       "      <td>NaN</td>\n",
       "      <td>NaN</td>\n",
       "      <td>NaN</td>\n",
       "    </tr>\n",
       "    <tr>\n",
       "      <th>2022-01-25</th>\n",
       "      <td>6.0079</td>\n",
       "      <td>6.0139</td>\n",
       "      <td>6.0109</td>\n",
       "      <td>2022</td>\n",
       "      <td>1</td>\n",
       "      <td>4</td>\n",
       "      <td>25</td>\n",
       "      <td>1</td>\n",
       "      <td>6.0124</td>\n",
       "      <td>6.0226</td>\n",
       "      <td>6.0226</td>\n",
       "      <td>6.0236</td>\n",
       "      <td>NaN</td>\n",
       "      <td>NaN</td>\n",
       "      <td>NaN</td>\n",
       "      <td>NaN</td>\n",
       "      <td>NaN</td>\n",
       "      <td>NaN</td>\n",
       "      <td>NaN</td>\n",
       "      <td>NaN</td>\n",
       "    </tr>\n",
       "  </tbody>\n",
       "</table>\n",
       "</div>"
      ],
      "text/plain": [
       "            Buying  Selling  Mid Rate  Year  Month  Week  Day  DayofWeek  \\\n",
       "Date                                                                       \n",
       "2022-01-31  6.0206   6.0266    6.0236  2022      1     5   31          0   \n",
       "2022-01-28  6.0196   6.0256    6.0226  2022      1     4   28          4   \n",
       "2022-01-27  6.0196   6.0256    6.0226  2022      1     4   27          3   \n",
       "2022-01-26  6.0094   6.0154    6.0124  2022      1     4   26          2   \n",
       "2022-01-25  6.0079   6.0139    6.0109  2022      1     4   25          1   \n",
       "\n",
       "             lag_1   lag_2   lag_3   lag_4  lag_5  lag_6  lag_7  lag_8  lag_9  \\\n",
       "Date                                                                            \n",
       "2022-01-31     NaN     NaN     NaN     NaN    NaN    NaN    NaN    NaN    NaN   \n",
       "2022-01-28  6.0236     NaN     NaN     NaN    NaN    NaN    NaN    NaN    NaN   \n",
       "2022-01-27  6.0226  6.0236     NaN     NaN    NaN    NaN    NaN    NaN    NaN   \n",
       "2022-01-26  6.0226  6.0226  6.0236     NaN    NaN    NaN    NaN    NaN    NaN   \n",
       "2022-01-25  6.0124  6.0226  6.0226  6.0236    NaN    NaN    NaN    NaN    NaN   \n",
       "\n",
       "            lag_10  lag_11  lag_12  \n",
       "Date                                \n",
       "2022-01-31     NaN     NaN     NaN  \n",
       "2022-01-28     NaN     NaN     NaN  \n",
       "2022-01-27     NaN     NaN     NaN  \n",
       "2022-01-26     NaN     NaN     NaN  \n",
       "2022-01-25     NaN     NaN     NaN  "
      ]
     },
     "execution_count": 27,
     "metadata": {},
     "output_type": "execute_result"
    }
   ],
   "source": [
    "# Creating lag features for fx rate dataset\n",
    "\n",
    "for i in range(1, 13):\n",
    "    fx[f'lag_{i}'] = fx['Buying'].shift(i)\n",
    "    fx[f'lag_{i}'] = fx['Selling'].shift(i)\n",
    "    fx[f'lag_{i}'] = fx['Mid Rate'].shift(i)\n",
    "    \n",
    "fx.head()"
   ]
  },
  {
   "cell_type": "code",
   "execution_count": 28,
   "id": "0b3057ea",
   "metadata": {},
   "outputs": [
    {
     "data": {
      "text/plain": [
       "Buying        0\n",
       "Selling       2\n",
       "Mid Rate      2\n",
       "Year          0\n",
       "Month         0\n",
       "Week          0\n",
       "Day           0\n",
       "DayofWeek     0\n",
       "lag_1         3\n",
       "lag_2         4\n",
       "lag_3         5\n",
       "lag_4         6\n",
       "lag_5         7\n",
       "lag_6         8\n",
       "lag_7         9\n",
       "lag_8        10\n",
       "lag_9        11\n",
       "lag_10       12\n",
       "lag_11       13\n",
       "lag_12       14\n",
       "dtype: int64"
      ]
     },
     "execution_count": 28,
     "metadata": {},
     "output_type": "execute_result"
    }
   ],
   "source": [
    "fx.isna().sum()"
   ]
  },
  {
   "cell_type": "code",
   "execution_count": 29,
   "id": "9dd58609",
   "metadata": {},
   "outputs": [
    {
     "data": {
      "text/html": [
       "<div>\n",
       "<style scoped>\n",
       "    .dataframe tbody tr th:only-of-type {\n",
       "        vertical-align: middle;\n",
       "    }\n",
       "\n",
       "    .dataframe tbody tr th {\n",
       "        vertical-align: top;\n",
       "    }\n",
       "\n",
       "    .dataframe thead th {\n",
       "        text-align: right;\n",
       "    }\n",
       "</style>\n",
       "<table border=\"1\" class=\"dataframe\">\n",
       "  <thead>\n",
       "    <tr style=\"text-align: right;\">\n",
       "      <th></th>\n",
       "      <th>Buying</th>\n",
       "      <th>Selling</th>\n",
       "      <th>Mid Rate</th>\n",
       "      <th>Year</th>\n",
       "      <th>Month</th>\n",
       "      <th>Week</th>\n",
       "      <th>Day</th>\n",
       "      <th>DayofWeek</th>\n",
       "      <th>lag_1</th>\n",
       "      <th>lag_2</th>\n",
       "      <th>lag_3</th>\n",
       "      <th>lag_4</th>\n",
       "      <th>lag_5</th>\n",
       "      <th>lag_6</th>\n",
       "      <th>lag_7</th>\n",
       "      <th>lag_8</th>\n",
       "      <th>lag_9</th>\n",
       "      <th>lag_10</th>\n",
       "      <th>lag_11</th>\n",
       "      <th>lag_12</th>\n",
       "    </tr>\n",
       "    <tr>\n",
       "      <th>Date</th>\n",
       "      <th></th>\n",
       "      <th></th>\n",
       "      <th></th>\n",
       "      <th></th>\n",
       "      <th></th>\n",
       "      <th></th>\n",
       "      <th></th>\n",
       "      <th></th>\n",
       "      <th></th>\n",
       "      <th></th>\n",
       "      <th></th>\n",
       "      <th></th>\n",
       "      <th></th>\n",
       "      <th></th>\n",
       "      <th></th>\n",
       "      <th></th>\n",
       "      <th></th>\n",
       "      <th></th>\n",
       "      <th></th>\n",
       "      <th></th>\n",
       "    </tr>\n",
       "  </thead>\n",
       "  <tbody>\n",
       "    <tr>\n",
       "      <th>2022-01-31</th>\n",
       "      <td>6.0206</td>\n",
       "      <td>6.0266</td>\n",
       "      <td>6.0236</td>\n",
       "      <td>2022</td>\n",
       "      <td>1</td>\n",
       "      <td>5</td>\n",
       "      <td>31</td>\n",
       "      <td>0</td>\n",
       "      <td>4.006375</td>\n",
       "      <td>4.007346</td>\n",
       "      <td>4.008318</td>\n",
       "      <td>4.009289</td>\n",
       "      <td>4.010261</td>\n",
       "      <td>4.011233</td>\n",
       "      <td>4.012207</td>\n",
       "      <td>4.01318</td>\n",
       "      <td>4.014154</td>\n",
       "      <td>4.015129</td>\n",
       "      <td>4.016103</td>\n",
       "      <td>4.017078</td>\n",
       "    </tr>\n",
       "    <tr>\n",
       "      <th>2022-01-28</th>\n",
       "      <td>6.0196</td>\n",
       "      <td>6.0256</td>\n",
       "      <td>6.0226</td>\n",
       "      <td>2022</td>\n",
       "      <td>1</td>\n",
       "      <td>4</td>\n",
       "      <td>28</td>\n",
       "      <td>4</td>\n",
       "      <td>6.023600</td>\n",
       "      <td>4.007346</td>\n",
       "      <td>4.008318</td>\n",
       "      <td>4.009289</td>\n",
       "      <td>4.010261</td>\n",
       "      <td>4.011233</td>\n",
       "      <td>4.012207</td>\n",
       "      <td>4.01318</td>\n",
       "      <td>4.014154</td>\n",
       "      <td>4.015129</td>\n",
       "      <td>4.016103</td>\n",
       "      <td>4.017078</td>\n",
       "    </tr>\n",
       "    <tr>\n",
       "      <th>2022-01-27</th>\n",
       "      <td>6.0196</td>\n",
       "      <td>6.0256</td>\n",
       "      <td>6.0226</td>\n",
       "      <td>2022</td>\n",
       "      <td>1</td>\n",
       "      <td>4</td>\n",
       "      <td>27</td>\n",
       "      <td>3</td>\n",
       "      <td>6.022600</td>\n",
       "      <td>6.023600</td>\n",
       "      <td>4.008318</td>\n",
       "      <td>4.009289</td>\n",
       "      <td>4.010261</td>\n",
       "      <td>4.011233</td>\n",
       "      <td>4.012207</td>\n",
       "      <td>4.01318</td>\n",
       "      <td>4.014154</td>\n",
       "      <td>4.015129</td>\n",
       "      <td>4.016103</td>\n",
       "      <td>4.017078</td>\n",
       "    </tr>\n",
       "    <tr>\n",
       "      <th>2022-01-26</th>\n",
       "      <td>6.0094</td>\n",
       "      <td>6.0154</td>\n",
       "      <td>6.0124</td>\n",
       "      <td>2022</td>\n",
       "      <td>1</td>\n",
       "      <td>4</td>\n",
       "      <td>26</td>\n",
       "      <td>2</td>\n",
       "      <td>6.022600</td>\n",
       "      <td>6.022600</td>\n",
       "      <td>6.023600</td>\n",
       "      <td>4.009289</td>\n",
       "      <td>4.010261</td>\n",
       "      <td>4.011233</td>\n",
       "      <td>4.012207</td>\n",
       "      <td>4.01318</td>\n",
       "      <td>4.014154</td>\n",
       "      <td>4.015129</td>\n",
       "      <td>4.016103</td>\n",
       "      <td>4.017078</td>\n",
       "    </tr>\n",
       "    <tr>\n",
       "      <th>2022-01-25</th>\n",
       "      <td>6.0079</td>\n",
       "      <td>6.0139</td>\n",
       "      <td>6.0109</td>\n",
       "      <td>2022</td>\n",
       "      <td>1</td>\n",
       "      <td>4</td>\n",
       "      <td>25</td>\n",
       "      <td>1</td>\n",
       "      <td>6.012400</td>\n",
       "      <td>6.022600</td>\n",
       "      <td>6.022600</td>\n",
       "      <td>6.023600</td>\n",
       "      <td>4.010261</td>\n",
       "      <td>4.011233</td>\n",
       "      <td>4.012207</td>\n",
       "      <td>4.01318</td>\n",
       "      <td>4.014154</td>\n",
       "      <td>4.015129</td>\n",
       "      <td>4.016103</td>\n",
       "      <td>4.017078</td>\n",
       "    </tr>\n",
       "    <tr>\n",
       "      <th>...</th>\n",
       "      <td>...</td>\n",
       "      <td>...</td>\n",
       "      <td>...</td>\n",
       "      <td>...</td>\n",
       "      <td>...</td>\n",
       "      <td>...</td>\n",
       "      <td>...</td>\n",
       "      <td>...</td>\n",
       "      <td>...</td>\n",
       "      <td>...</td>\n",
       "      <td>...</td>\n",
       "      <td>...</td>\n",
       "      <td>...</td>\n",
       "      <td>...</td>\n",
       "      <td>...</td>\n",
       "      <td>...</td>\n",
       "      <td>...</td>\n",
       "      <td>...</td>\n",
       "      <td>...</td>\n",
       "      <td>...</td>\n",
       "    </tr>\n",
       "    <tr>\n",
       "      <th>2012-01-09</th>\n",
       "      <td>1.5700</td>\n",
       "      <td>1.6067</td>\n",
       "      <td>1.5884</td>\n",
       "      <td>2012</td>\n",
       "      <td>1</td>\n",
       "      <td>2</td>\n",
       "      <td>9</td>\n",
       "      <td>0</td>\n",
       "      <td>1.588400</td>\n",
       "      <td>1.588900</td>\n",
       "      <td>1.589300</td>\n",
       "      <td>1.591600</td>\n",
       "      <td>1.591600</td>\n",
       "      <td>1.593900</td>\n",
       "      <td>1.594800</td>\n",
       "      <td>1.59660</td>\n",
       "      <td>1.598400</td>\n",
       "      <td>1.613600</td>\n",
       "      <td>1.622200</td>\n",
       "      <td>1.667000</td>\n",
       "    </tr>\n",
       "    <tr>\n",
       "      <th>2012-01-06</th>\n",
       "      <td>1.5696</td>\n",
       "      <td>1.6063</td>\n",
       "      <td>1.5880</td>\n",
       "      <td>2012</td>\n",
       "      <td>1</td>\n",
       "      <td>1</td>\n",
       "      <td>6</td>\n",
       "      <td>4</td>\n",
       "      <td>1.588400</td>\n",
       "      <td>1.588400</td>\n",
       "      <td>1.588900</td>\n",
       "      <td>1.589300</td>\n",
       "      <td>1.591600</td>\n",
       "      <td>1.591600</td>\n",
       "      <td>1.593900</td>\n",
       "      <td>1.59480</td>\n",
       "      <td>1.596600</td>\n",
       "      <td>1.598400</td>\n",
       "      <td>1.613600</td>\n",
       "      <td>1.622200</td>\n",
       "    </tr>\n",
       "    <tr>\n",
       "      <th>2012-01-05</th>\n",
       "      <td>1.5675</td>\n",
       "      <td>1.6042</td>\n",
       "      <td>1.5859</td>\n",
       "      <td>2012</td>\n",
       "      <td>1</td>\n",
       "      <td>1</td>\n",
       "      <td>5</td>\n",
       "      <td>3</td>\n",
       "      <td>1.588000</td>\n",
       "      <td>1.588400</td>\n",
       "      <td>1.588400</td>\n",
       "      <td>1.588900</td>\n",
       "      <td>1.589300</td>\n",
       "      <td>1.591600</td>\n",
       "      <td>1.591600</td>\n",
       "      <td>1.59390</td>\n",
       "      <td>1.594800</td>\n",
       "      <td>1.596600</td>\n",
       "      <td>1.598400</td>\n",
       "      <td>1.613600</td>\n",
       "    </tr>\n",
       "    <tr>\n",
       "      <th>2012-01-04</th>\n",
       "      <td>1.5657</td>\n",
       "      <td>1.6024</td>\n",
       "      <td>1.5841</td>\n",
       "      <td>2012</td>\n",
       "      <td>1</td>\n",
       "      <td>1</td>\n",
       "      <td>4</td>\n",
       "      <td>2</td>\n",
       "      <td>1.585900</td>\n",
       "      <td>1.588000</td>\n",
       "      <td>1.588400</td>\n",
       "      <td>1.588400</td>\n",
       "      <td>1.588900</td>\n",
       "      <td>1.589300</td>\n",
       "      <td>1.591600</td>\n",
       "      <td>1.59160</td>\n",
       "      <td>1.593900</td>\n",
       "      <td>1.594800</td>\n",
       "      <td>1.596600</td>\n",
       "      <td>1.598400</td>\n",
       "    </tr>\n",
       "    <tr>\n",
       "      <th>2012-01-03</th>\n",
       "      <td>1.5657</td>\n",
       "      <td>1.6024</td>\n",
       "      <td>1.5841</td>\n",
       "      <td>2012</td>\n",
       "      <td>1</td>\n",
       "      <td>1</td>\n",
       "      <td>3</td>\n",
       "      <td>1</td>\n",
       "      <td>1.584100</td>\n",
       "      <td>1.585900</td>\n",
       "      <td>1.588000</td>\n",
       "      <td>1.588400</td>\n",
       "      <td>1.588400</td>\n",
       "      <td>1.588900</td>\n",
       "      <td>1.589300</td>\n",
       "      <td>1.59160</td>\n",
       "      <td>1.591600</td>\n",
       "      <td>1.593900</td>\n",
       "      <td>1.594800</td>\n",
       "      <td>1.596600</td>\n",
       "    </tr>\n",
       "  </tbody>\n",
       "</table>\n",
       "<p>2498 rows × 20 columns</p>\n",
       "</div>"
      ],
      "text/plain": [
       "            Buying  Selling  Mid Rate  Year  Month  Week  Day  DayofWeek  \\\n",
       "Date                                                                       \n",
       "2022-01-31  6.0206   6.0266    6.0236  2022      1     5   31          0   \n",
       "2022-01-28  6.0196   6.0256    6.0226  2022      1     4   28          4   \n",
       "2022-01-27  6.0196   6.0256    6.0226  2022      1     4   27          3   \n",
       "2022-01-26  6.0094   6.0154    6.0124  2022      1     4   26          2   \n",
       "2022-01-25  6.0079   6.0139    6.0109  2022      1     4   25          1   \n",
       "...            ...      ...       ...   ...    ...   ...  ...        ...   \n",
       "2012-01-09  1.5700   1.6067    1.5884  2012      1     2    9          0   \n",
       "2012-01-06  1.5696   1.6063    1.5880  2012      1     1    6          4   \n",
       "2012-01-05  1.5675   1.6042    1.5859  2012      1     1    5          3   \n",
       "2012-01-04  1.5657   1.6024    1.5841  2012      1     1    4          2   \n",
       "2012-01-03  1.5657   1.6024    1.5841  2012      1     1    3          1   \n",
       "\n",
       "               lag_1     lag_2     lag_3     lag_4     lag_5     lag_6  \\\n",
       "Date                                                                     \n",
       "2022-01-31  4.006375  4.007346  4.008318  4.009289  4.010261  4.011233   \n",
       "2022-01-28  6.023600  4.007346  4.008318  4.009289  4.010261  4.011233   \n",
       "2022-01-27  6.022600  6.023600  4.008318  4.009289  4.010261  4.011233   \n",
       "2022-01-26  6.022600  6.022600  6.023600  4.009289  4.010261  4.011233   \n",
       "2022-01-25  6.012400  6.022600  6.022600  6.023600  4.010261  4.011233   \n",
       "...              ...       ...       ...       ...       ...       ...   \n",
       "2012-01-09  1.588400  1.588900  1.589300  1.591600  1.591600  1.593900   \n",
       "2012-01-06  1.588400  1.588400  1.588900  1.589300  1.591600  1.591600   \n",
       "2012-01-05  1.588000  1.588400  1.588400  1.588900  1.589300  1.591600   \n",
       "2012-01-04  1.585900  1.588000  1.588400  1.588400  1.588900  1.589300   \n",
       "2012-01-03  1.584100  1.585900  1.588000  1.588400  1.588400  1.588900   \n",
       "\n",
       "               lag_7    lag_8     lag_9    lag_10    lag_11    lag_12  \n",
       "Date                                                                   \n",
       "2022-01-31  4.012207  4.01318  4.014154  4.015129  4.016103  4.017078  \n",
       "2022-01-28  4.012207  4.01318  4.014154  4.015129  4.016103  4.017078  \n",
       "2022-01-27  4.012207  4.01318  4.014154  4.015129  4.016103  4.017078  \n",
       "2022-01-26  4.012207  4.01318  4.014154  4.015129  4.016103  4.017078  \n",
       "2022-01-25  4.012207  4.01318  4.014154  4.015129  4.016103  4.017078  \n",
       "...              ...      ...       ...       ...       ...       ...  \n",
       "2012-01-09  1.594800  1.59660  1.598400  1.613600  1.622200  1.667000  \n",
       "2012-01-06  1.593900  1.59480  1.596600  1.598400  1.613600  1.622200  \n",
       "2012-01-05  1.591600  1.59390  1.594800  1.596600  1.598400  1.613600  \n",
       "2012-01-04  1.591600  1.59160  1.593900  1.594800  1.596600  1.598400  \n",
       "2012-01-03  1.589300  1.59160  1.591600  1.593900  1.594800  1.596600  \n",
       "\n",
       "[2498 rows x 20 columns]"
      ]
     },
     "execution_count": 29,
     "metadata": {},
     "output_type": "execute_result"
    }
   ],
   "source": [
    "def fill_nan_with_mean(fx, column_names):\n",
    "    for col in column_names:\n",
    "        column_names = fx[col].mean()\n",
    "        fx[col] = fx[col].fillna(column_names)\n",
    "    return fx\n",
    "\n",
    "fx = fill_nan_with_mean(fx, ['Selling', 'Buying', 'Mid Rate', 'lag_1','lag_2','lag_3','lag_4','lag_5','lag_6','lag_7','lag_8','lag_9','lag_10','lag_11','lag_12'])\n",
    "fx"
   ]
  },
  {
   "cell_type": "markdown",
   "id": "71b0b8c4",
   "metadata": {},
   "source": [
    "### Stationarity \n",
    "\n",
    "Checking for stationarity in the data using the Augmented Dickey-Fuller Test, Selling and Buying columns \n"
   ]
  },
  {
   "cell_type": "code",
   "execution_count": 34,
   "id": "c7cdcb5d",
   "metadata": {},
   "outputs": [],
   "source": [
    "#Transfroming the dataset into stationarity series before testing with ADF to avoid non-stationarity\n",
    "\n",
    "moving_average = fx.rolling(window=30).mean()\n",
    "fx_series = fx - moving_average\n",
    "fx_series.dropna(inplace=True)"
   ]
  },
  {
   "cell_type": "code",
   "execution_count": 35,
   "id": "6e91f077",
   "metadata": {},
   "outputs": [
    {
     "name": "stdout",
     "output_type": "stream",
     "text": [
      "ADF Statistic: -12.115989\n",
      "p-value: 0.000000\n",
      "Lags Used: 16\n",
      "Number of Observations Used: 2452\n",
      "Critical Values:\n",
      "\t1%: -3.433\n",
      "\t5%: -2.863\n",
      "\t10%: -2.567\n",
      "The time series is stationary\n",
      "None\n"
     ]
    }
   ],
   "source": [
    "def selling_stationarity(fx_series):\n",
    "    \"\"\"\n",
    "    Performs the Augmented Dickey-Fuller Test to check for stationarity in the InterbankFX dataset.\n",
    "    \"\"\"\n",
    "    result = adfuller(fx_series['Selling'])\n",
    "    print('ADF Statistic: %f' % result[0])\n",
    "    print('p-value: %f' % result[1])\n",
    "    print('Lags Used: %d' % result[2])\n",
    "    print('Number of Observations Used: %d' % result[3])\n",
    "    print('Critical Values:')\n",
    "    for key, value in result[4].items():\n",
    "        print('\\t%s: %.3f' % (key, value))\n",
    "    if result[0] < result[4]['5%']:\n",
    "        print(\"The time series is stationary\")\n",
    "    else:\n",
    "        print(\"The time series is not stationary\")\n",
    "print(selling_stationarity(fx_series))"
   ]
  },
  {
   "cell_type": "code",
   "execution_count": 36,
   "id": "c239da3c",
   "metadata": {},
   "outputs": [
    {
     "name": "stdout",
     "output_type": "stream",
     "text": [
      "ADF Statistic: -11.892342\n",
      "p-value: 0.000000\n",
      "Lags Used: 14\n",
      "Number of Observations Used: 2454\n",
      "Critical Values:\n",
      "\t1%: -3.433\n",
      "\t5%: -2.863\n",
      "\t10%: -2.567\n",
      "The time series is stationary\n",
      "None\n"
     ]
    }
   ],
   "source": [
    "def buying_stationarity(fx_series):\n",
    "    \"\"\"\n",
    "    Performs the Augmented Dickey-Fuller Test to check for stationarity in the InterbankFX dataset.\n",
    "    \"\"\"\n",
    "    result = adfuller(fx_series['Buying'])\n",
    "    print('ADF Statistic: %f' % result[0])\n",
    "    print('p-value: %f' % result[1])\n",
    "    print('Lags Used: %d' % result[2])\n",
    "    print('Number of Observations Used: %d' % result[3])\n",
    "    print('Critical Values:')\n",
    "    for key, value in result[4].items():\n",
    "        print('\\t%s: %.3f' % (key, value))\n",
    "    if result[0] < result[4]['5%']:\n",
    "        print(\"The time series is stationary\")\n",
    "    else:\n",
    "        print(\"The time series is not stationary\")\n",
    "print(buying_stationarity(fx_series))"
   ]
  },
  {
   "cell_type": "code",
   "execution_count": 38,
   "id": "9585c1e3",
   "metadata": {},
   "outputs": [],
   "source": [
    "#Standardization\n",
    "ncolumn_names = fx.select_dtypes(include=['number']).columns\n",
    "\n",
    "scaler = StandardScaler()\n",
    "scaler.fit(fx.loc[:, ncolumn_names])\n",
    "fx_scaled = fx.copy()\n",
    "fx_scaled.loc[:, ncolumn_names] = scaler.transform(fx_scaled.loc[:, ncolumn_names])"
   ]
  },
  {
   "cell_type": "code",
   "execution_count": 39,
   "id": "330cdade",
   "metadata": {},
   "outputs": [
    {
     "name": "stdout",
     "output_type": "stream",
     "text": [
      "fx: (2498, 20)\n",
      "x_train: (1998, 19)\n",
      "x_test: (500, 19)\n",
      "y_train: (1998,)\n",
      "y_test: (500,)\n",
      "Validation: (1, 19)\n"
     ]
    }
   ],
   "source": [
    "train_size = int(0.8 * len(fx)) # 80% of the data for training\n",
    "X = fx_scaled.iloc[:, :-1].values\n",
    "y = fx_scaled.iloc[:, -1].values\n",
    "\n",
    "\n",
    "#Split the train set into train and validation sets\n",
    "train_size = int(len(X) * 0.8)  # 80% of the remaining data for training\n",
    "train, valid = X[:-1], X[-1:]\n",
    "\n",
    "X_train, X_test, y_train, y_test = train_test_split(X, y, test_size=0.2, random_state=0)\n",
    "\n",
    "print(\"fx:\", fx_scaled.shape)\n",
    "print(\"x_train:\", X_train.shape)\n",
    "print(\"x_test:\", X_test.shape)\n",
    "print(\"y_train:\", y_train.shape)\n",
    "print(\"y_test:\", y_test.shape)\n",
    "print(\"Validation:\", valid.shape)"
   ]
  },
  {
   "cell_type": "code",
   "execution_count": 40,
   "id": "cb362307",
   "metadata": {},
   "outputs": [
    {
     "data": {
      "text/plain": [
       "1998"
      ]
     },
     "execution_count": 40,
     "metadata": {},
     "output_type": "execute_result"
    }
   ],
   "source": [
    "len(X_train)"
   ]
  },
  {
   "cell_type": "code",
   "execution_count": 42,
   "id": "7264de08",
   "metadata": {},
   "outputs": [
    {
     "data": {
      "text/plain": [
       "500"
      ]
     },
     "execution_count": 42,
     "metadata": {},
     "output_type": "execute_result"
    }
   ],
   "source": [
    "len(X_test)"
   ]
  },
  {
   "cell_type": "code",
   "execution_count": 43,
   "id": "2887f3ae",
   "metadata": {},
   "outputs": [
    {
     "name": "stdout",
     "output_type": "stream",
     "text": [
      "The best hyperparameters and the associated R-squared score\n"
     ]
    },
    {
     "data": {
      "text/plain": [
       "0.9845128586716829"
      ]
     },
     "execution_count": 43,
     "metadata": {},
     "output_type": "execute_result"
    }
   ],
   "source": [
    "#Lasso regression, and GridSearch\n",
    "\n",
    "param_grid = {'lasso__alpha': [0.1, 1, 10]}\n",
    "pipe = make_pipeline(StandardScaler(), Lasso())\n",
    "grid_search = GridSearchCV(pipe, param_grid, cv=5, scoring='r2')\n",
    "\n",
    "# Fit the GridSearchCV object to the data\n",
    "grid_search.fit(X_train, y_train)\n",
    "\n",
    "best_model = grid_search.best_estimator_\n",
    "best_score = grid_search.best_score_\n",
    "\n",
    "print('The best hyperparameters and the associated R-squared score')\n",
    "grid_search.best_score_"
   ]
  },
  {
   "cell_type": "code",
   "execution_count": null,
   "id": "da78ec37",
   "metadata": {},
   "outputs": [],
   "source": [
    "param_grid = {'lasso__alpha': [0.1, 1, 10]}\n",
    "\n",
    "# Create the pipeline object with Lasso regression and standardization\n",
    "pipe = make_pipeline(StandardScaler(), Lasso())\n",
    "\n",
    "# Create the GridSearchCV object\n",
    "grid_search = GridSearchCV(pipe, param_grid, cv=5, scoring='r2')\n",
    "\n",
    "# Fit the GridSearchCV object to the data\n",
    "grid_search.fit(X_train, y_train)\n",
    "\n",
    "# Get the best model and score\n",
    "best_model = grid_search.best_estimator_\n",
    "best_score = grid_search.best_score_\n",
    "\n",
    "print('The best hyperparameters and the associated R-squared score')\n",
    "grid_search.best_score_"
   ]
  },
  {
   "cell_type": "markdown",
   "id": "95ef14f4",
   "metadata": {},
   "source": [
    "### Machine Learning Models\n",
    "\n",
    "DecisionTreeRegressor and randomForestRegressor"
   ]
  },
  {
   "cell_type": "markdown",
   "id": "bcb69edb",
   "metadata": {},
   "source": [
    "#### Decision Tree model"
   ]
  },
  {
   "cell_type": "code",
   "execution_count": 44,
   "id": "43292789",
   "metadata": {},
   "outputs": [
    {
     "data": {
      "text/plain": [
       "DecisionTreeRegressor(max_depth=100, random_state=42)"
      ]
     },
     "execution_count": 44,
     "metadata": {},
     "output_type": "execute_result"
    }
   ],
   "source": [
    "model_dt = DecisionTreeRegressor(random_state=42, max_depth=100)\n",
    "model_dt.fit(X_train, y_train)"
   ]
  },
  {
   "cell_type": "code",
   "execution_count": 45,
   "id": "a7a57176",
   "metadata": {},
   "outputs": [
    {
     "name": "stdout",
     "output_type": "stream",
     "text": [
      "Accuracy: 0.99\n",
      "Mean Squared Error: 0.01\n",
      "Mean Absolute Error: 0.02\n",
      "R-Squared: 0.99\n"
     ]
    }
   ],
   "source": [
    "dt_y_pred = model_dt.predict(X_test)\n",
    "\n",
    "# Print accuracy score\n",
    "accuracy = model_dt.score(X_test, y_test)\n",
    "print(f'Accuracy: {accuracy:.2f}')\n",
    "\n",
    "# Evaluating the model\n",
    "mse_dt = mean_squared_error(y_test, dt_y_pred)\n",
    "mae_dt = mean_absolute_error(y_test, dt_y_pred)\n",
    "r2_dt = r2_score(y_test, dt_y_pred)\n",
    "\n",
    "print(f'Mean Squared Error: {mse_dt:.2f}')\n",
    "print(f'Mean Absolute Error: {mae_dt:.2f}')\n",
    "print(f'R-Squared: {r2_dt:.2f}')"
   ]
  },
  {
   "cell_type": "code",
   "execution_count": 48,
   "id": "b4c7919f",
   "metadata": {},
   "outputs": [
    {
     "data": {
      "image/png": "[encoded data removed]",
      "text/plain": [
       "<Figure size 432x288 with 1 Axes>"
      ]
     },
     "metadata": {
      "needs_background": "light"
     },
     "output_type": "display_data"
    }
   ],
   "source": [
    "# Displaying the Decision Tree\n",
    "trees = plot_tree(model_dt);"
   ]
  },
  {
   "cell_type": "markdown",
   "id": "cc85a789",
   "metadata": {},
   "source": [
    "#### Random Forest model"
   ]
  },
  {
   "cell_type": "code",
   "execution_count": 49,
   "id": "b1a964b9",
   "metadata": {},
   "outputs": [
    {
     "data": {
      "text/plain": [
       "RandomForestRegressor(max_depth=2, random_state=0)"
      ]
     },
     "execution_count": 49,
     "metadata": {},
     "output_type": "execute_result"
    }
   ],
   "source": [
    "model_rf = RandomForestRegressor(n_estimators=100, max_depth=2, random_state=0)\n",
    "model_rf.fit(X_train, y_train)"
   ]
  },
  {
   "cell_type": "code",
   "execution_count": 50,
   "id": "3a5d2983",
   "metadata": {},
   "outputs": [
    {
     "name": "stdout",
     "output_type": "stream",
     "text": [
      "Accuracy: 0.99\n",
      "Mean Sqaured Error: 0.0537\n",
      "Mean Sqaured Error: 0.1776\n",
      "R-Squared: 0.9465\n"
     ]
    }
   ],
   "source": [
    "rf_y_pred = model_rf.predict(X_test)\n",
    "\n",
    "# Print accuracy score\n",
    "accuracy = model_dt.score(X_test, y_test)\n",
    "print(f'Accuracy: {accuracy:.2f}')\n",
    "\n",
    "# Evaluating the model\n",
    "mse_rf = mean_squared_error(y_test, rf_y_pred)\n",
    "mae_rf = mean_absolute_error(y_test, rf_y_pred)\n",
    "r2_rf = r2_score(y_test, rf_y_pred)\n",
    "\n",
    "print(f\"Mean Sqaured Error: {mse_rf:.4f}\")\n",
    "print(f\"Mean Sqaured Error: {mae_rf:.4f}\")\n",
    "print(f\"R-Squared: {r2_rf:.4f}\" )"
   ]
  },
  {
   "cell_type": "code",
   "execution_count": 53,
   "id": "36d79844",
   "metadata": {},
   "outputs": [
    {
     "name": "stdout",
     "output_type": "stream",
     "text": [
      "DecisionTree - MSE: 0.014058411809698836, MAE: 0.015792258531864074, R2: 0.9859744771577486\n",
      "\n",
      "Random Forest - MSE: 0.053666830400736006, MAE: 0.17764992745583466, R2: 0.9464587205264914\n"
     ]
    }
   ],
   "source": [
    "# Models Comparison \n",
    "print(f\"DecisionTree - MSE: {mse_dt}, MAE: {mae_dt}, R2: {r2_dt}\\n\")\n",
    "\n",
    "print(f\"Random Forest - MSE: {mse_rf}, MAE: {mae_rf}, R2: {r2_rf}\")"
   ]
  },
  {
   "cell_type": "markdown",
   "id": "2f2de00c",
   "metadata": {},
   "source": [
    "                                                                *author: arbroni"
   ]
  },
  {
   "cell_type": "code",
   "execution_count": null,
   "id": "d44bac17",
   "metadata": {},
   "outputs": [],
   "source": []
  }
 ],
 "metadata": {
  "kernelspec": {
   "display_name": "Python 3 (ipykernel)",
   "language": "python",
   "name": "python3"
  },
  "language_info": {
   "codemirror_mode": {
    "name": "ipython",
    "version": 3
   },
   "file_extension": ".py",
   "mimetype": "text/x-python",
   "name": "python",
   "nbconvert_exporter": "python",
   "pygments_lexer": "ipython3",
   "version": "3.9.12"
  }
 },
 "nbformat": 4,
 "nbformat_minor": 5
}
