{
 "cells": [
  {
   "cell_type": "markdown",
   "id": "broad-significance",
   "metadata": {},
   "source": [
    "# Control Statements"
   ]
  },
  {
   "cell_type": "markdown",
   "id": "mighty-picnic",
   "metadata": {},
   "source": [
    "## Check 2 Numbers are Dividable\n",
    "Write a Python prgoram that takes 2 numbers and prints whether the first one is dividable by the second one or not. For example, if the user inputs 10 and 5, the program should print `\"10 is dividable by 5\"`. "
   ]
  },
  {
   "cell_type": "code",
   "execution_count": 1,
   "id": "everyday-league",
   "metadata": {},
   "outputs": [
    {
     "name": "stdout",
     "output_type": "stream",
     "text": [
      "Enter the first number: 30\n",
      "Enter the second number: 3\n",
      "30 is divisible by 3\n"
     ]
    }
   ],
   "source": [
    "num1 = int(input(\"Enter the first number: \"))\n",
    "num2 = int(input(\"Enter the second number: \"))\n",
    "\n",
    "if num1 % num2 == 0:\n",
    "    print(num1, \"is divisible by\", num2)\n",
    "else:\n",
    "    print(num1, \"is not divisible by\", num2)\n"
   ]
  },
  {
   "cell_type": "markdown",
   "id": "certified-smell",
   "metadata": {},
   "source": [
    "## Check a Website Address Has .com\n",
    "Write a Python program that takes a website address and prints out whether it ends with `.com` or not. For example, given the string `\"www.google.com\"`, the program should print `\"www.google.com ends with .com\"`."
   ]
  },
  {
   "cell_type": "code",
   "execution_count": 2,
   "id": "framed-index",
   "metadata": {},
   "outputs": [
    {
     "name": "stdout",
     "output_type": "stream",
     "text": [
      "Enter a website address: www.gis.com\n",
      "www.gis.com ends with .com\n"
     ]
    }
   ],
   "source": [
    "website = input(\"Enter a website address: \")\n",
    "\n",
    "if website.endswith('.com'):\n",
    "    print(website, \"ends with .com\")\n",
    "else:\n",
    "    print(website, \"does not end with .com\")\n"
   ]
  },
  {
   "cell_type": "markdown",
   "id": "lonely-hollow",
   "metadata": {},
   "source": [
    "## Remove Non-String List Elements\n",
    "Write a Python program that takes a list and create another list that only contains string elements of the first list. For example, given the list `[1, \"hello\", 4.3, True, \"bye\"]`, the program should define a list `[\"hello\", \"bye\"]`."
   ]
  },
  {
   "cell_type": "code",
   "execution_count": 3,
   "id": "compound-commissioner",
   "metadata": {},
   "outputs": [
    {
     "name": "stdout",
     "output_type": "stream",
     "text": [
      "['hello', 'bye']\n"
     ]
    }
   ],
   "source": [
    "original_list = [1, \"hello\", 4.3, True, \"bye\"]\n",
    "string_list = []\n",
    "\n",
    "for element in original_list:\n",
    "    if isinstance(element, str):\n",
    "        string_list.append(element)\n",
    "\n",
    "print(string_list)\n"
   ]
  },
  {
   "cell_type": "markdown",
   "id": "conceptual-lobby",
   "metadata": {},
   "source": [
    "## Compare Numbers\n",
    "Write a Python program that takes an integer, compares it to a predefined number, and tells the user to guess a larger or smaller number. For example, suppose the predefined number is 10 and the user inputs 7. The program should print `\"7 is too small!\"`."
   ]
  },
  {
   "cell_type": "code",
   "execution_count": 4,
   "id": "religious-leonard",
   "metadata": {},
   "outputs": [
    {
     "name": "stdout",
     "output_type": "stream",
     "text": [
      "Guess a number: 50\n",
      "50 is too large!\n"
     ]
    }
   ],
   "source": [
    "predefined_number = 10\n",
    "user_input = int(input(\"Guess a number: \"))\n",
    "\n",
    "if user_input == predefined_number:\n",
    "    print(\"You guessed it!\")\n",
    "elif user_input < predefined_number:\n",
    "    print(f\"{user_input} is too small!\")\n",
    "else:\n",
    "    print(f\"{user_input} is too large!\")\n"
   ]
  },
  {
   "cell_type": "markdown",
   "id": "gorgeous-knitting",
   "metadata": {},
   "source": [
    "## Sum Even Numbers\n",
    "Write a Python program that computes the sum of even numbers in a given list of integers. "
   ]
  },
  {
   "cell_type": "code",
   "execution_count": 5,
   "id": "artificial-professor",
   "metadata": {},
   "outputs": [
    {
     "name": "stdout",
     "output_type": "stream",
     "text": [
      "The sum of even numbers is: 30\n"
     ]
    }
   ],
   "source": [
    "my_list = [1, 2, 3, 4, 5, 6, 7, 8, 9, 10]\n",
    "\n",
    "# Initialize the sum to zero\n",
    "sum_even = 0\n",
    "\n",
    "# Iterate over the list\n",
    "for num in my_list:\n",
    "    # Check if the number is even\n",
    "    if num % 2 == 0:\n",
    "        # Add the even number to the sum\n",
    "        sum_even += num\n",
    "\n",
    "# Print the sum of even numbers\n",
    "print(\"The sum of even numbers is:\", sum_even)\n"
   ]
  },
  {
   "cell_type": "markdown",
   "id": "e3044c58",
   "metadata": {},
   "source": [
    "## Find All Divisors\n",
    "Write a Python prgoram that find all divisors of a given positive integer and store them in a list. For example, given 10, the resulting list should be `[1, 2, 5, 10]`."
   ]
  },
  {
   "cell_type": "code",
   "execution_count": 6,
   "id": "9bee6850",
   "metadata": {},
   "outputs": [
    {
     "name": "stdout",
     "output_type": "stream",
     "text": [
      "Enter a positive integer: 4\n",
      "The divisors of 4 are: [1, 2, 4]\n"
     ]
    }
   ],
   "source": [
    "num = int(input(\"Enter a positive integer: \"))\n",
    "divisors = []\n",
    "\n",
    "for i in range(1, num+1):\n",
    "    if num % i == 0:\n",
    "        divisors.append(i)\n",
    "\n",
    "print(\"The divisors of\", num, \"are:\", divisors)\n"
   ]
  },
  {
   "cell_type": "markdown",
   "id": "41b462e9",
   "metadata": {},
   "source": [
    "## Find the Largest Word\n",
    "Write a Python program that finds the largest word in a given input string. For example, given the string `\"hello how are you\"`, the program should print `\"hello\"`."
   ]
  },
  {
   "cell_type": "code",
   "execution_count": 7,
   "id": "13037cad",
   "metadata": {},
   "outputs": [
    {
     "name": "stdout",
     "output_type": "stream",
     "text": [
      "hello\n"
     ]
    }
   ],
   "source": [
    "input_string = \"hello how are you\"\n",
    "\n",
    "words = input_string.split()  # split the string into a list of words\n",
    "largest_word = \"\"\n",
    "\n",
    "for word in words:\n",
    "    if len(word) > len(largest_word):\n",
    "        largest_word = word\n",
    "\n",
    "print(largest_word)  # output the largest word\n"
   ]
  },
  {
   "cell_type": "markdown",
   "id": "3b71775e",
   "metadata": {},
   "source": [
    "## Count the Frequency of List Elements\n",
    "Write a Python program that counts the frequency of each element in a given list and store them in a dictionary. For example, given the list `[111, \"hello\", 222, \"hello\", 111]`, the program should define a dictionary `{111: 2, \"hello\": 2, 222: 1}`."
   ]
  },
  {
   "cell_type": "code",
   "execution_count": 8,
   "id": "fdb69cdb",
   "metadata": {},
   "outputs": [
    {
     "name": "stdout",
     "output_type": "stream",
     "text": [
      "{111: 2, 'hello': 2, 222: 1}\n"
     ]
    }
   ],
   "source": [
    "lst = [111, \"hello\", 222, \"hello\", 111]\n",
    "\n",
    "freq_dict = {}\n",
    "for elem in lst:\n",
    "    if elem in freq_dict:\n",
    "        freq_dict[elem] += 1\n",
    "    else:\n",
    "        freq_dict[elem] = 1\n",
    "\n",
    "print(freq_dict)\n"
   ]
  },
  {
   "cell_type": "code",
   "execution_count": null,
   "id": "02d78de2",
   "metadata": {},
   "outputs": [],
   "source": []
  }
 ],
 "metadata": {
  "kernelspec": {
   "display_name": "Python 3 (ipykernel)",
   "language": "python",
   "name": "python3"
  },
  "language_info": {
   "codemirror_mode": {
    "name": "ipython",
    "version": 3
   },
   "file_extension": ".py",
   "mimetype": "text/x-python",
   "name": "python",
   "nbconvert_exporter": "python",
   "pygments_lexer": "ipython3",
   "version": "3.9.12"
  }
 },
 "nbformat": 4,
 "nbformat_minor": 5
}
