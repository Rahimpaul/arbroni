{
 "cells": [
  {
   "cell_type": "markdown",
   "id": "qualified-overhead",
   "metadata": {},
   "source": [
    "# Functions"
   ]
  },
  {
   "cell_type": "markdown",
   "id": "geographic-kazakhstan",
   "metadata": {},
   "source": [
    "## Count Non-Vowel Characters\n",
    "Write a Python function that takes a string and returns the number of non-vowel characters in that string. Vowel characters in English are `\"a\"`, `\"e\"`, `\"i\"`, `\"o\"`, and `\"u\"`. For example, given the string `\"abcdA\"`, the function should return 3."
   ]
  },
  {
   "cell_type": "code",
   "execution_count": 1,
   "id": "increased-introduction",
   "metadata": {},
   "outputs": [],
   "source": [
    "def count_non_vowels(s):\n",
    "    vowels = set(['a', 'e', 'i', 'o', 'u', 'A', 'E', 'I', 'O', 'U'])\n",
    "    count = 0\n",
    "    for c in s:\n",
    "        if c not in vowels:\n",
    "            count += 1\n",
    "    return count\n"
   ]
  },
  {
   "cell_type": "markdown",
   "id": "permanent-lawsuit",
   "metadata": {},
   "source": [
    "## Multiply the List Elements\n",
    "Write a Python function that takes a list of values as input and returns the product of all the numbers in the list. For example, given the input list `[1, 3, 8]`, the function should return 24."
   ]
  },
  {
   "cell_type": "code",
   "execution_count": 2,
   "id": "extensive-dividend",
   "metadata": {},
   "outputs": [],
   "source": [
    "def product_of_list(lst):\n",
    "    product = 1\n",
    "    for num in lst:\n",
    "        product *= num\n",
    "    return product\n"
   ]
  },
  {
   "cell_type": "markdown",
   "id": "documented-discharge",
   "metadata": {},
   "source": [
    "## Check if a String is Palindrome\n",
    "Write a Python function that takes a string and returns `True` if it is palindrome. A palindrome is a word, number, phrase, or other sequence of characters which reads the same backward as forward. For example, given the string `\"abc\"` the function should return `False`. But, given the string `\"aba\"`, the function should return `True`."
   ]
  },
  {
   "cell_type": "code",
   "execution_count": 3,
   "id": "homeless-generator",
   "metadata": {},
   "outputs": [],
   "source": [
    "def is_palindrome(s):\n",
    "    s = s.lower()\n",
    "    s = ''.join(c for c in s if c.isalnum())\n",
    "    return s == s[::-1]\n"
   ]
  },
  {
   "cell_type": "markdown",
   "id": "retired-craps",
   "metadata": {},
   "source": [
    "## Count the Unique Digits in an Integer\n",
    "Write a Python function that takes a positive integer and returns the number of unique digits in that integer. For example, given the integer 12315, the function should return 4."
   ]
  },
  {
   "cell_type": "code",
   "execution_count": 4,
   "id": "australian-resort",
   "metadata": {},
   "outputs": [],
   "source": [
    "def count_unique_digits(n):\n",
    "    digits = set(str(n))\n",
    "    return len(digits)\n"
   ]
  },
  {
   "cell_type": "markdown",
   "id": "upset-physiology",
   "metadata": {},
   "source": [
    "## Check a Number is Prime\n",
    "Write a Python function that takes a number and checks the number is prime or not. It should return `True` for being prime and `False` otherwise. Note that a prime number (or a prime) is a natural number greater than 1 and that has no positive divisors other than 1 and itself. For example, the function should return `True` for the given number 7 and `False` for the given number 10."
   ]
  },
  {
   "cell_type": "code",
   "execution_count": 5,
   "id": "normal-garbage",
   "metadata": {},
   "outputs": [],
   "source": [
    "def is_prime(num):\n",
    "    if num <= 1:\n",
    "        return False\n",
    "    for i in range(2, int(num**0.5) + 1):\n",
    "        if num % i == 0:\n",
    "            return False\n",
    "    return True"
   ]
  },
  {
   "cell_type": "markdown",
   "id": "daily-console",
   "metadata": {},
   "source": [
    "## Sort Hyphened-Seperated Words\n",
    "Write a Python function that takes a sequence of words that are separated by hyphens as input and returns the words in a hyphen-separated sequence after sorting the words alphabetically. For example, given the string `\"green-red-yellow-black-white\"`, the function should return `\"black-green-red-white-yellow\"`."
   ]
  },
  {
   "cell_type": "code",
   "execution_count": 6,
   "id": "aging-staff",
   "metadata": {},
   "outputs": [],
   "source": [
    "def sort_hyphen_words(words):\n",
    "    word_list = words.split(\"-\")   # split the hyphen-separated string into a list of words\n",
    "    word_list.sort()   # sort the list of words alphabetically\n",
    "    sorted_words = \"-\".join(word_list)   # join the sorted words back into a hyphen-separated string\n",
    "    return sorted_words\n"
   ]
  },
  {
   "cell_type": "markdown",
   "id": "dressed-leisure",
   "metadata": {},
   "source": [
    "## Count the Characters\n",
    "Write a Python function that takes a string as input and returns a dictionary that stores the frequency of each character in the input string. For example, given the string `\"abca\"`, the function should return `{'a': 2, 'b': 1, 'c': 1}`."
   ]
  },
  {
   "cell_type": "code",
   "execution_count": 7,
   "id": "complete-stress",
   "metadata": {},
   "outputs": [],
   "source": [
    "def char_frequency(string):\n",
    "    freq_dict = {}\n",
    "    for char in string:\n",
    "        if char in freq_dict:\n",
    "            freq_dict[char] += 1\n",
    "        else:\n",
    "            freq_dict[char] = 1\n",
    "    return freq_dict\n"
   ]
  },
  {
   "cell_type": "markdown",
   "id": "aerial-uganda",
   "metadata": {},
   "source": [
    "## Compute the Fibonacci Sequence\n",
    "The Fibonacci Sequence is computed based on the following formula:     \n",
    "\n",
    "$$ f(n) = 0 \\text{   if } n = 0; \\\\\n",
    "f(n) = 1 \\text{   if } n = 1; \\\\\n",
    "f(n) = f(n-1) + f(n-2) \\text{   if } n > 1. $$     \n",
    "\n",
    "Write a Python function that computes the value of `f(n)` with a given `n` as input. For example, given 7, the function should return 13."
   ]
  },
  {
   "cell_type": "code",
   "execution_count": 8,
   "id": "compatible-senate",
   "metadata": {},
   "outputs": [],
   "source": [
    "def fibonacci(n):\n",
    "    if n == 0:\n",
    "        return 0\n",
    "    elif n == 1:\n",
    "        return 1\n",
    "    else:\n",
    "        return fibonacci(n-1) + fibonacci(n-2)"
   ]
  },
  {
   "cell_type": "code",
   "execution_count": null,
   "id": "ea9f66ca",
   "metadata": {},
   "outputs": [],
   "source": []
  }
 ],
 "metadata": {
  "kernelspec": {
   "display_name": "Python 3 (ipykernel)",
   "language": "python",
   "name": "python3"
  },
  "language_info": {
   "codemirror_mode": {
    "name": "ipython",
    "version": 3
   },
   "file_extension": ".py",
   "mimetype": "text/x-python",
   "name": "python",
   "nbconvert_exporter": "python",
   "pygments_lexer": "ipython3",
   "version": "3.9.12"
  }
 },
 "nbformat": 4,
 "nbformat_minor": 5
}
