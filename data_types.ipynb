{
 "cells": [
  {
   "cell_type": "markdown",
   "id": "novel-stream",
   "metadata": {},
   "source": [
    "# Data Types"
   ]
  },
  {
   "cell_type": "markdown",
   "id": "finite-albania",
   "metadata": {},
   "source": [
    "## Remove Vowels\n",
    "Write a Python program that takes a string, makes the character lowercase, removes its vowel characters (`\"a\"`, `\"e\"`, `\"i\"`, `\"o\"`, and `\"u\"`) and prints the result. For example, given the string `\"Hello\"`, the program should print `\"hll\"`."
   ]
  },
  {
   "cell_type": "code",
   "execution_count": 1,
   "id": "human-century",
   "metadata": {
    "scrolled": true
   },
   "outputs": [
    {
     "name": "stdout",
     "output_type": "stream",
     "text": [
      "hll\n"
     ]
    }
   ],
   "source": [
    "def remove_vowels(s):\n",
    "    vowels = \"aeiou\"\n",
    "    s = s.lower()\n",
    "    return \"\".join([c for c in s if c not in vowels])\n",
    "\n",
    "# Example usage:\n",
    "s = \"Hello\"\n",
    "result = remove_vowels(s)\n",
    "print(result)  # Output: \"hll\"\n"
   ]
  },
  {
   "cell_type": "markdown",
   "id": "formed-candy",
   "metadata": {},
   "source": [
    "## Reverse the Words\n",
    "Write a Python program that takes a string containing some words that are separeted with whitespace, reverses the words in the string, and prints the result. For example, given the string `\"hello how are you\"`, the program should print `\"you are how hello\"`. "
   ]
  },
  {
   "cell_type": "code",
   "execution_count": 2,
   "id": "138fbbc8",
   "metadata": {},
   "outputs": [
    {
     "name": "stdout",
     "output_type": "stream",
     "text": [
      "you are how hello\n"
     ]
    }
   ],
   "source": [
    "s = \"hello how are you\"\n",
    "words = s.split()\n",
    "words.reverse()\n",
    "result = \" \".join(words)\n",
    "print(result)  # Output: \"you are how hello\"\n"
   ]
  },
  {
   "cell_type": "markdown",
   "id": "after-radius",
   "metadata": {},
   "source": [
    "## Count Common Elements of 2 Lists\n",
    "Write a Python program that prints the number of common elements in two given lists. For example, given `[1, 2, 3]` and `[5, 1, 3]`, the program should print 2."
   ]
  },
  {
   "cell_type": "code",
   "execution_count": 3,
   "id": "adverse-berkeley",
   "metadata": {},
   "outputs": [
    {
     "name": "stdout",
     "output_type": "stream",
     "text": [
      "2\n"
     ]
    }
   ],
   "source": [
    "list1 = [1, 2, 3]\n",
    "list2 = [5, 1, 3]\n",
    "\n",
    "common_elements = set(list1) & set(list2)\n",
    "count_common_elements = len(common_elements)\n",
    "\n",
    "print(count_common_elements)  # Output: 2\n"
   ]
  },
  {
   "cell_type": "markdown",
   "id": "secret-theme",
   "metadata": {},
   "source": [
    "## Print Sorted Unique Words\n",
    "Write a Python program that takes a string containing some words that are separeted with whitespace, removes all duplicate words, sorts the remaining words alphanumerically, and prints the result. For example, given the string `\"hello world and practice makes perfect and hello world again\"`, the program should print `\"again and hello makes perfect practice world\"`."
   ]
  },
  {
   "cell_type": "code",
   "execution_count": 4,
   "id": "requested-rapid",
   "metadata": {},
   "outputs": [
    {
     "name": "stdout",
     "output_type": "stream",
     "text": [
      "again and hello makes perfect practice world\n"
     ]
    }
   ],
   "source": [
    "sentence = \"hello world and practice makes perfect and hello world again\"\n",
    "words = sentence.split()  # Split the sentence into a list of words\n",
    "unique_words = list(set(words))  # Remove duplicates by converting the list to a set and back to a list\n",
    "unique_words.sort()  # Sort the remaining words in alphabetical order\n",
    "\n",
    "output = \" \".join(unique_words)  # Join the words back into a sentence\n",
    "print(output)  # Output: \"again and hello makes perfect practice world\"\n"
   ]
  },
  {
   "cell_type": "markdown",
   "id": "satellite-residence",
   "metadata": {},
   "source": [
    "## Convert a List of Integers to an Integer\n",
    "Write a Python program to convert a given list of integers to an integer. For example, given `[11, 2, 54]`, the program should assign 11254 into an integer variable."
   ]
  },
  {
   "cell_type": "code",
   "execution_count": 5,
   "id": "excessive-spectrum",
   "metadata": {},
   "outputs": [
    {
     "name": "stdout",
     "output_type": "stream",
     "text": [
      "11254\n"
     ]
    }
   ],
   "source": [
    "num_list = [11, 2, 54]\n",
    "\n",
    "# Joining list elements as strings, then concatenate all of them\n",
    "# Finally, convert concatenated string to an integer\n",
    "num = int(\"\".join(str(i) for i in num_list))\n",
    "\n",
    "print(num)\n"
   ]
  },
  {
   "cell_type": "code",
   "execution_count": null,
   "id": "b9172e8b",
   "metadata": {},
   "outputs": [],
   "source": []
  }
 ],
 "metadata": {
  "kernelspec": {
   "display_name": "Python 3 (ipykernel)",
   "language": "python",
   "name": "python3"
  },
  "language_info": {
   "codemirror_mode": {
    "name": "ipython",
    "version": 3
   },
   "file_extension": ".py",
   "mimetype": "text/x-python",
   "name": "python",
   "nbconvert_exporter": "python",
   "pygments_lexer": "ipython3",
   "version": "3.9.12"
  }
 },
 "nbformat": 4,
 "nbformat_minor": 5
}
