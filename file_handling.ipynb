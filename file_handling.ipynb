{
 "cells": [
  {
   "cell_type": "markdown",
   "id": "isolated-catholic",
   "metadata": {},
   "source": [
    "# File Handling"
   ]
  },
  {
   "cell_type": "markdown",
   "id": "c9952178",
   "metadata": {},
   "source": [
    "## Write to a File\n",
    "Write a Python program that opens a `my_file.txt` file, writes the following text into it, and closes the file."
   ]
  },
  {
   "cell_type": "code",
   "execution_count": null,
   "id": "8acd47d0",
   "metadata": {
    "vscode": {
     "languageId": "plaintext"
    }
   },
   "outputs": [],
   "source": [
    "text = \"\"\"We learn Python.\n",
    "GISMA is our university.\n",
    "Cool!\n",
    "We like both Python and GISMA.\n",
    "\"\"\""
   ]
  },
  {
   "cell_type": "markdown",
   "id": "89ef6b01",
   "metadata": {},
   "source": [
    "## Read a File\n",
    "Write a Python program that opens the `my_file.txt` file, reads its content, prints the content, and closes the file. "
   ]
  },
  {
   "cell_type": "code",
   "execution_count": 1,
   "id": "4ea65727",
   "metadata": {
    "vscode": {
     "languageId": "plaintext"
    }
   },
   "outputs": [
    {
     "ename": "FileNotFoundError",
     "evalue": "[Errno 2] No such file or directory: 'my_file.txt'",
     "output_type": "error",
     "traceback": [
      "\u001b[0;31m---------------------------------------------------------------------------\u001b[0m",
      "\u001b[0;31mFileNotFoundError\u001b[0m                         Traceback (most recent call last)",
      "Input \u001b[0;32mIn [1]\u001b[0m, in \u001b[0;36m<cell line: 2>\u001b[0;34m()\u001b[0m\n\u001b[1;32m      1\u001b[0m \u001b[38;5;66;03m# Open the file in read mode\u001b[39;00m\n\u001b[0;32m----> 2\u001b[0m file \u001b[38;5;241m=\u001b[39m \u001b[38;5;28;43mopen\u001b[39;49m\u001b[43m(\u001b[49m\u001b[38;5;124;43m\"\u001b[39;49m\u001b[38;5;124;43mmy_file.txt\u001b[39;49m\u001b[38;5;124;43m\"\u001b[39;49m\u001b[43m,\u001b[49m\u001b[43m \u001b[49m\u001b[38;5;124;43m\"\u001b[39;49m\u001b[38;5;124;43mr\u001b[39;49m\u001b[38;5;124;43m\"\u001b[39;49m\u001b[43m)\u001b[49m\n\u001b[1;32m      4\u001b[0m \u001b[38;5;66;03m# Read the content of the file\u001b[39;00m\n\u001b[1;32m      5\u001b[0m content \u001b[38;5;241m=\u001b[39m file\u001b[38;5;241m.\u001b[39mread()\n",
      "\u001b[0;31mFileNotFoundError\u001b[0m: [Errno 2] No such file or directory: 'my_file.txt'"
     ]
    }
   ],
   "source": [
    "# Open the file in read mode\n",
    "file = open(\"my_file.txt\", \"r\")\n",
    "\n",
    "# Read the content of the file\n",
    "content = file.read()\n",
    "\n",
    "# Print the content\n",
    "print(content)\n",
    "\n",
    "# Close the file\n",
    "file.close()\n"
   ]
  },
  {
   "cell_type": "markdown",
   "id": "8e1dd626",
   "metadata": {},
   "source": [
    "## Work with the File Pointer\n",
    "Write a Python program that opens the `my_file.txt` file, moves the file pointer to the beginning of the word `like`, overwrites it with the word `LIKE`, and closes the file. "
   ]
  },
  {
   "cell_type": "code",
   "execution_count": 2,
   "id": "575f0726",
   "metadata": {
    "vscode": {
     "languageId": "plaintext"
    }
   },
   "outputs": [
    {
     "ename": "FileNotFoundError",
     "evalue": "[Errno 2] No such file or directory: 'my_file.txt'",
     "output_type": "error",
     "traceback": [
      "\u001b[0;31m---------------------------------------------------------------------------\u001b[0m",
      "\u001b[0;31mFileNotFoundError\u001b[0m                         Traceback (most recent call last)",
      "Input \u001b[0;32mIn [2]\u001b[0m, in \u001b[0;36m<cell line: 1>\u001b[0;34m()\u001b[0m\n\u001b[0;32m----> 1\u001b[0m \u001b[38;5;28;01mwith\u001b[39;00m \u001b[38;5;28;43mopen\u001b[39;49m\u001b[43m(\u001b[49m\u001b[38;5;124;43m\"\u001b[39;49m\u001b[38;5;124;43mmy_file.txt\u001b[39;49m\u001b[38;5;124;43m\"\u001b[39;49m\u001b[43m,\u001b[49m\u001b[43m \u001b[49m\u001b[38;5;124;43m\"\u001b[39;49m\u001b[38;5;124;43mr+\u001b[39;49m\u001b[38;5;124;43m\"\u001b[39;49m\u001b[43m)\u001b[49m \u001b[38;5;28;01mas\u001b[39;00m file:\n\u001b[1;32m      2\u001b[0m     text \u001b[38;5;241m=\u001b[39m file\u001b[38;5;241m.\u001b[39mread()\n\u001b[1;32m      3\u001b[0m     file\u001b[38;5;241m.\u001b[39mseek(\u001b[38;5;241m0\u001b[39m)\n",
      "\u001b[0;31mFileNotFoundError\u001b[0m: [Errno 2] No such file or directory: 'my_file.txt'"
     ]
    }
   ],
   "source": [
    "with open(\"my_file.txt\", \"r+\") as file:\n",
    "    text = file.read()\n",
    "    file.seek(0)\n",
    "    text = text.replace(\"like\", \"LIKE\")\n",
    "    file.write(text)\n",
    "    file.truncate()"
   ]
  },
  {
   "cell_type": "markdown",
   "id": "7ca023bb",
   "metadata": {},
   "source": [
    "## Copy the Content of a File\n",
    "Write a Python program that opens the `my_file.txt` and `my_file_2.txt` files. It should read one line at a time from the first file. If this line contains either `Python` or `GISMA`, the line should be written in the second file. Otherwise, the line should be skipped. In the end, the program should close both files. "
   ]
  },
  {
   "cell_type": "code",
   "execution_count": null,
   "id": "0c80f8a0",
   "metadata": {
    "vscode": {
     "languageId": "plaintext"
    }
   },
   "outputs": [],
   "source": [
    "with open(\"my_file.txt\", \"r\") as file1, open(\"my_file_2.txt\", \"w\") as file2:\n",
    "    for line in file1:\n",
    "        if \"Python\" in line or \"GISMA\" in line:\n",
    "            file2.write(line)\n"
   ]
  },
  {
   "cell_type": "markdown",
   "id": "87cb4fc3",
   "metadata": {},
   "source": [
    "## Modify a File\n",
    "Write a Python program that opens the `my_file_2.txt` file. It should randomly choose a line and replace all characters of that line with `*`. In the end, the program should close the file. "
   ]
  },
  {
   "cell_type": "code",
   "execution_count": null,
   "id": "8695b533",
   "metadata": {
    "vscode": {
     "languageId": "plaintext"
    }
   },
   "outputs": [],
   "source": []
  },
  {
   "cell_type": "markdown",
   "id": "2fe6538a",
   "metadata": {},
   "source": [
    "## Merge Two Files\n",
    "Write a Python program that adds the content of the `my_file.txt` file to the end of the `my_file_2.txt` file. "
   ]
  },
  {
   "cell_type": "code",
   "execution_count": 3,
   "id": "c1fee739",
   "metadata": {},
   "outputs": [
    {
     "ename": "FileNotFoundError",
     "evalue": "[Errno 2] No such file or directory: 'my_file.txt'",
     "output_type": "error",
     "traceback": [
      "\u001b[0;31m---------------------------------------------------------------------------\u001b[0m",
      "\u001b[0;31mFileNotFoundError\u001b[0m                         Traceback (most recent call last)",
      "Input \u001b[0;32mIn [3]\u001b[0m, in \u001b[0;36m<cell line: 1>\u001b[0;34m()\u001b[0m\n\u001b[0;32m----> 1\u001b[0m \u001b[38;5;28;01mwith\u001b[39;00m \u001b[38;5;28;43mopen\u001b[39;49m\u001b[43m(\u001b[49m\u001b[38;5;124;43m\"\u001b[39;49m\u001b[38;5;124;43mmy_file.txt\u001b[39;49m\u001b[38;5;124;43m\"\u001b[39;49m\u001b[43m,\u001b[49m\u001b[43m \u001b[49m\u001b[38;5;124;43m\"\u001b[39;49m\u001b[38;5;124;43mr\u001b[39;49m\u001b[38;5;124;43m\"\u001b[39;49m\u001b[43m)\u001b[49m \u001b[38;5;28;01mas\u001b[39;00m file1, \u001b[38;5;28mopen\u001b[39m(\u001b[38;5;124m\"\u001b[39m\u001b[38;5;124mmy_file_2.txt\u001b[39m\u001b[38;5;124m\"\u001b[39m, \u001b[38;5;124m\"\u001b[39m\u001b[38;5;124ma\u001b[39m\u001b[38;5;124m\"\u001b[39m) \u001b[38;5;28;01mas\u001b[39;00m file2:\n\u001b[1;32m      2\u001b[0m     file2\u001b[38;5;241m.\u001b[39mwrite(\u001b[38;5;124m\"\u001b[39m\u001b[38;5;130;01m\\n\u001b[39;00m\u001b[38;5;124m\"\u001b[39m)\n\u001b[1;32m      3\u001b[0m     file2\u001b[38;5;241m.\u001b[39mwrite(file1\u001b[38;5;241m.\u001b[39mread())\n",
      "\u001b[0;31mFileNotFoundError\u001b[0m: [Errno 2] No such file or directory: 'my_file.txt'"
     ]
    }
   ],
   "source": [
    "with open(\"my_file.txt\", \"r\") as file1, open(\"my_file_2.txt\", \"a\") as file2:\n",
    "    file2.write(\"\\n\")\n",
    "    file2.write(file1.read())\n"
   ]
  },
  {
   "cell_type": "code",
   "execution_count": null,
   "id": "5b90a3e2",
   "metadata": {},
   "outputs": [],
   "source": []
  }
 ],
 "metadata": {
  "kernelspec": {
   "display_name": "Python 3 (ipykernel)",
   "language": "python",
   "name": "python3"
  },
  "language_info": {
   "codemirror_mode": {
    "name": "ipython",
    "version": 3
   },
   "file_extension": ".py",
   "mimetype": "text/x-python",
   "name": "python",
   "nbconvert_exporter": "python",
   "pygments_lexer": "ipython3",
   "version": "3.9.12"
  }
 },
 "nbformat": 4,
 "nbformat_minor": 5
}
