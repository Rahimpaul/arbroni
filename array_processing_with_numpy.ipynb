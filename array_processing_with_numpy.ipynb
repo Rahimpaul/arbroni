{
 "cells": [
  {
   "cell_type": "markdown",
   "id": "separate-plymouth",
   "metadata": {},
   "source": [
    "# Array Processing with NumPy"
   ]
  },
  {
   "cell_type": "code",
   "execution_count": 1,
   "id": "danish-interference",
   "metadata": {},
   "outputs": [],
   "source": [
    "import numpy as np"
   ]
  },
  {
   "cell_type": "markdown",
   "id": "extraordinary-recognition",
   "metadata": {},
   "source": [
    "## Create an Array\n",
    "Write a Python program that creates an integer array with 4 elements of type unsigned int16 and prints the shape, the number of dimensions, and the length of each element in bytes."
   ]
  },
  {
   "cell_type": "code",
   "execution_count": 3,
   "id": "auburn-characterization",
   "metadata": {},
   "outputs": [
    {
     "name": "stdout",
     "output_type": "stream",
     "text": [
      "Shape: (4,)\n",
      "Number of dimensions: 1\n",
      "Length of each element (in bytes): 2\n"
     ]
    }
   ],
   "source": [
    "arr = np.array([10, 20, 30, 40], dtype=np.uint16)\n",
    "\n",
    "# Print the shape of the array\n",
    "print(\"Shape:\", arr.shape)\n",
    "\n",
    "# Print the number of dimensions of the array\n",
    "print(\"Number of dimensions:\", arr.ndim)\n",
    "\n",
    "# Print the length of each element in bytes\n",
    "print(\"Length of each element (in bytes):\", arr.itemsize)\n"
   ]
  },
  {
   "cell_type": "markdown",
   "id": "grand-house",
   "metadata": {},
   "source": [
    "## Create a 2D Array\n",
    "Write a Python program that creates a $ 5 \\times 2 $ integer array from a range between 100 to 200 such that the difference between each element is 10."
   ]
  },
  {
   "cell_type": "code",
   "execution_count": 2,
   "id": "great-organization",
   "metadata": {},
   "outputs": [
    {
     "name": "stdout",
     "output_type": "stream",
     "text": [
      "[[100 110]\n",
      " [120 130]\n",
      " [140 150]\n",
      " [160 170]\n",
      " [180 190]]\n"
     ]
    }
   ],
   "source": [
    "#Create 2D array\n",
    "\n",
    "arr_2 = np.arange(100, 200, 10).reshape(5, 2)\n",
    "\n",
    "#Display the array\n",
    "print(arr_2)\n"
   ]
  },
  {
   "cell_type": "markdown",
   "id": "modern-thong",
   "metadata": {},
   "source": [
    "## Select Rows and Columns\n",
    "Write a Python program to return the 2D array of odd rows and even columns from the given numpy array."
   ]
  },
  {
   "cell_type": "code",
   "execution_count": 5,
   "id": "contained-burlington",
   "metadata": {},
   "outputs": [
    {
     "name": "stdout",
     "output_type": "stream",
     "text": [
      "2D array of odd rows and even columns from the given numpy array: \n",
      " [[ 3  6  9 12]\n",
      " [15 18 21 24]\n",
      " [27 30 33 36]\n",
      " [39 42 45 48]\n",
      " [51 54 57 60]]\n"
     ]
    }
   ],
   "source": [
    "# Option 1\n",
    "\n",
    "# Create a numpy array\n",
    "arr_3 = np.array([[3 ,6, 9, 12], [15 ,18, 21, 24], [27 ,30, 33, 36], [39 ,42, 45, 48], [51 ,54, 57, 60]])\n",
    "\n",
    "# Display the 2D array of odd and even numbers\n",
    "print(f\"2D array of odd rows and even columns from the given numpy array: \\n\", arr_3)"
   ]
  },
  {
   "cell_type": "code",
   "execution_count": 6,
   "id": "heard-consultation",
   "metadata": {},
   "outputs": [
    {
     "name": "stdout",
     "output_type": "stream",
     "text": [
      "[[ 5  7]\n",
      " [13 15]]\n"
     ]
    }
   ],
   "source": [
    "#Option 2\n",
    "\n",
    "def get_odd_rows_even_cols(arr):\n",
    "    return arr[1::2, ::2]\n",
    "\n",
    "arr = np.array([[1, 2, 3, 4], [5, 6, 7, 8], [9, 10, 11, 12], [13, 14, 15, 16], [17, 18, 19, 20]])\n",
    "result = get_odd_rows_even_cols(arr)\n",
    "\n",
    "print(result)\n"
   ]
  },
  {
   "cell_type": "markdown",
   "id": "close-collector",
   "metadata": {},
   "source": [
    "## Compute Numerical Operations\n",
    "Write a Python program that computes the sum, the element-wise multiplication, and the matrix multiplication of the given numpy arrays. "
   ]
  },
  {
   "cell_type": "code",
   "execution_count": 38,
   "id": "premium-compiler",
   "metadata": {},
   "outputs": [
    {
     "name": "stdout",
     "output_type": "stream",
     "text": [
      "[[ 5  6]\n",
      " [21 18]] \n",
      "\n",
      " [[15 33]\n",
      " [ 4  7]]\n"
     ]
    }
   ],
   "source": [
    "a = np.array([[5, 6], [21, 18]])\n",
    "b = np.array([[15, 33], [4, 7]])\n",
    "print(a, '\\n\\n', b)"
   ]
  },
  {
   "cell_type": "code",
   "execution_count": 39,
   "id": "activated-occurrence",
   "metadata": {},
   "outputs": [
    {
     "name": "stdout",
     "output_type": "stream",
     "text": [
      "Sum of arrays:\n",
      " [[20 39]\n",
      " [25 25]]\n",
      "\n",
      "Element-wise multiplication of arrays:\n",
      " [[ 75 198]\n",
      " [ 84 126]]\n",
      "\n",
      "Matrix multiplication of arrays:\n",
      " [[151 138]\n",
      " [483 450]]\n"
     ]
    }
   ],
   "source": [
    "#sum of the arrays\n",
    "c = a + b\n",
    "print(\"Sum of arrays:\\n\", c)\n",
    "\n",
    "# element-wise multiplication of the arrays\n",
    "d = a * b\n",
    "print(\"\\nElement-wise multiplication of arrays:\\n\", d)\n",
    "\n",
    "# matrix multiplication of the arrays\n",
    "e = np.dot(a, a)\n",
    "print(\"\\nMatrix multiplication of arrays:\\n\", e)"
   ]
  },
  {
   "cell_type": "markdown",
   "id": "fabulous-identification",
   "metadata": {},
   "source": [
    "## Split and Concatenate an Array\n",
    "Write a Python program to split the given $ 8 \\times 3 $ array into 4 equal-sized $ 2 \\times 3 $ sub-arrays. Then, concatenate the splitted arrays vertically to rebuilt the original array."
   ]
  },
  {
   "cell_type": "code",
   "execution_count": 17,
   "id": "encouraging-ultimate",
   "metadata": {},
   "outputs": [
    {
     "name": "stdout",
     "output_type": "stream",
     "text": [
      "Original array:\n",
      "[[10 11 12]\n",
      " [13 14 15]\n",
      " [16 17 18]\n",
      " [19 20 21]\n",
      " [22 23 24]\n",
      " [25 26 27]\n",
      " [28 29 30]\n",
      " [31 32 33]]\n"
     ]
    }
   ],
   "source": [
    "# Creating an 8x3 array\n",
    "arr_5 = np.arange(10, 34, 1).reshape(8, 3)\n",
    "\n",
    "print(\"Original array:\")\n",
    "print(arr_5)"
   ]
  },
  {
   "cell_type": "code",
   "execution_count": 18,
   "id": "tested-village",
   "metadata": {},
   "outputs": [
    {
     "name": "stdout",
     "output_type": "stream",
     "text": [
      "\n",
      "Sub-arrays:\n",
      "[[10 11 12]\n",
      " [13 14 15]]\n",
      "[[16 17 18]\n",
      " [19 20 21]]\n",
      "[[22 23 24]\n",
      " [25 26 27]]\n",
      "[[28 29 30]\n",
      " [31 32 33]]\n",
      "\n",
      "Rebuilt array:\n",
      "[[10 11 12]\n",
      " [13 14 15]\n",
      " [16 17 18]\n",
      " [19 20 21]\n",
      " [22 23 24]\n",
      " [25 26 27]\n",
      " [28 29 30]\n",
      " [31 32 33]]\n"
     ]
    }
   ],
   "source": [
    "# Splitting the array into 4 equal-sized 2x3 sub-arrays\n",
    "sub_arrays = np.split(arr_5, 4)\n",
    "print(\"\\nSub-arrays:\")\n",
    "for sub_arr in sub_arrays:\n",
    "    print(sub_arr)\n",
    "\n",
    "# Concatenating the sub-arrays vertically to rebuild the original array\n",
    "con_arr = np.concatenate(sub_arrays, axis=0)\n",
    "print(\"\\nRebuilt array:\")\n",
    "print(con_arr)\n"
   ]
  },
  {
   "cell_type": "markdown",
   "id": "super-vietnam",
   "metadata": {},
   "source": [
    "## Replace a Column\n",
    "Write a Python program that replaces the second column from the given array with the new given column."
   ]
  },
  {
   "cell_type": "code",
   "execution_count": 22,
   "id": "negative-techno",
   "metadata": {},
   "outputs": [
    {
     "data": {
      "text/plain": [
       "(array([[34, 43, 73],\n",
       "        [82, 22, 12],\n",
       "        [53, 94, 66]]),\n",
       " array([[10, 10, 10]]))"
      ]
     },
     "execution_count": 22,
     "metadata": {},
     "output_type": "execute_result"
    }
   ],
   "source": [
    "arr_6 = np.array([[34, 43, 73], [82, 22, 12], [53, 94, 66]]) \n",
    "new_column = np.array([[10, 10, 10]])\n",
    "arr_6, new_column"
   ]
  },
  {
   "cell_type": "code",
   "execution_count": 23,
   "id": "33402192",
   "metadata": {},
   "outputs": [
    {
     "name": "stdout",
     "output_type": "stream",
     "text": [
      "[[34 10 73]\n",
      " [82 10 12]\n",
      " [53 10 66]]\n"
     ]
    }
   ],
   "source": [
    "# replace the second column with the new column\n",
    "arr_6[:, 1] = new_column\n",
    "\n",
    "print(arr_6)"
   ]
  },
  {
   "cell_type": "markdown",
   "id": "identical-turner",
   "metadata": {},
   "source": [
    "## Sort Rows and Columns\n",
    "Write a Python program to sort the given 2D array in 2 scenarios: (1) Sort the rows; (2) Sort the columns.  "
   ]
  },
  {
   "cell_type": "code",
   "execution_count": 25,
   "id": "employed-lawsuit",
   "metadata": {},
   "outputs": [
    {
     "data": {
      "text/plain": [
       "array([[34, 43, 73],\n",
       "       [82, 22, 12],\n",
       "       [53, 94, 66]])"
      ]
     },
     "execution_count": 25,
     "metadata": {},
     "output_type": "execute_result"
    }
   ],
   "source": [
    "arr_7 = np.array([[34, 43, 73], [82, 22, 12], [53, 94, 66]])\n",
    "arr_7"
   ]
  },
  {
   "cell_type": "code",
   "execution_count": 29,
   "id": "computational-spotlight",
   "metadata": {},
   "outputs": [
    {
     "name": "stdout",
     "output_type": "stream",
     "text": [
      "Sorted rows:\n",
      " [[34 22 12]\n",
      " [53 43 66]\n",
      " [82 94 73]]\n",
      "\n",
      "\n",
      "\n",
      "Sorted columns:\n",
      " [[34 43 73]\n",
      " [12 22 82]\n",
      " [53 66 94]]\n"
     ]
    }
   ],
   "source": [
    "# sort the rows\n",
    "sorted_rows = np.sort(arr_7, axis=0)\n",
    "print(f\"Sorted rows:\\n\", sorted_rows)\n",
    "\n",
    "print('\\n\\n')\n",
    "\n",
    "# sort the columns\n",
    "sorted_cols = np.sort(arr_7, axis=1)\n",
    "print(f\"Sorted columns:\\n\", sorted_cols)"
   ]
  },
  {
   "cell_type": "code",
   "execution_count": null,
   "id": "97137d0b",
   "metadata": {},
   "outputs": [],
   "source": []
  }
 ],
 "metadata": {
  "kernelspec": {
   "display_name": "Python 3 (ipykernel)",
   "language": "python",
   "name": "python3"
  },
  "language_info": {
   "codemirror_mode": {
    "name": "ipython",
    "version": 3
   },
   "file_extension": ".py",
   "mimetype": "text/x-python",
   "name": "python",
   "nbconvert_exporter": "python",
   "pygments_lexer": "ipython3",
   "version": "3.9.12"
  }
 },
 "nbformat": 4,
 "nbformat_minor": 5
}
