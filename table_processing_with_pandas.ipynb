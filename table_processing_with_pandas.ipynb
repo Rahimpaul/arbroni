{
 "cells": [
  {
   "cell_type": "markdown",
   "id": "departmental-premises",
   "metadata": {},
   "source": [
    "# Table Processing with Pandas\n",
    "Here, we use an Automobile Dataset that contains different characteristics of an automobile such as body-style, wheel-base, engine-type, price, mileage, horsepower, etc."
   ]
  },
  {
   "cell_type": "code",
   "execution_count": 1,
   "id": "acknowledged-mission",
   "metadata": {},
   "outputs": [],
   "source": [
    "import pandas as pd"
   ]
  },
  {
   "cell_type": "markdown",
   "id": "agreed-sister",
   "metadata": {},
   "source": [
    "# Load and Show the Dataset\n",
    "Write a Python program to load the dataset from the `automobile.csv` file, show the data types of its columns, and also show the first 3 rows of the dataset."
   ]
  },
  {
   "cell_type": "code",
   "execution_count": 6,
   "id": "frequent-fiber",
   "metadata": {},
   "outputs": [
    {
     "data": {
      "text/html": [
       "<div>\n",
       "<style scoped>\n",
       "    .dataframe tbody tr th:only-of-type {\n",
       "        vertical-align: middle;\n",
       "    }\n",
       "\n",
       "    .dataframe tbody tr th {\n",
       "        vertical-align: top;\n",
       "    }\n",
       "\n",
       "    .dataframe thead th {\n",
       "        text-align: right;\n",
       "    }\n",
       "</style>\n",
       "<table border=\"1\" class=\"dataframe\">\n",
       "  <thead>\n",
       "    <tr style=\"text-align: right;\">\n",
       "      <th></th>\n",
       "      <th>index</th>\n",
       "      <th>company</th>\n",
       "      <th>body-style</th>\n",
       "      <th>wheel-base</th>\n",
       "      <th>length</th>\n",
       "      <th>engine-type</th>\n",
       "      <th>num-of-cylinders</th>\n",
       "      <th>horsepower</th>\n",
       "      <th>average-mileage</th>\n",
       "      <th>price</th>\n",
       "    </tr>\n",
       "  </thead>\n",
       "  <tbody>\n",
       "    <tr>\n",
       "      <th>0</th>\n",
       "      <td>0</td>\n",
       "      <td>alfa-romero</td>\n",
       "      <td>convertible</td>\n",
       "      <td>88.6</td>\n",
       "      <td>168.8</td>\n",
       "      <td>dohc</td>\n",
       "      <td>four</td>\n",
       "      <td>111</td>\n",
       "      <td>21</td>\n",
       "      <td>13495.0</td>\n",
       "    </tr>\n",
       "    <tr>\n",
       "      <th>1</th>\n",
       "      <td>1</td>\n",
       "      <td>alfa-romero</td>\n",
       "      <td>convertible</td>\n",
       "      <td>88.6</td>\n",
       "      <td>168.8</td>\n",
       "      <td>dohc</td>\n",
       "      <td>four</td>\n",
       "      <td>111</td>\n",
       "      <td>21</td>\n",
       "      <td>16500.0</td>\n",
       "    </tr>\n",
       "    <tr>\n",
       "      <th>2</th>\n",
       "      <td>2</td>\n",
       "      <td>alfa-romero</td>\n",
       "      <td>hatchback</td>\n",
       "      <td>94.5</td>\n",
       "      <td>171.2</td>\n",
       "      <td>ohcv</td>\n",
       "      <td>six</td>\n",
       "      <td>154</td>\n",
       "      <td>19</td>\n",
       "      <td>16500.0</td>\n",
       "    </tr>\n",
       "  </tbody>\n",
       "</table>\n",
       "</div>"
      ],
      "text/plain": [
       "   index      company   body-style  wheel-base  length engine-type  \\\n",
       "0      0  alfa-romero  convertible        88.6   168.8        dohc   \n",
       "1      1  alfa-romero  convertible        88.6   168.8        dohc   \n",
       "2      2  alfa-romero    hatchback        94.5   171.2        ohcv   \n",
       "\n",
       "  num-of-cylinders  horsepower  average-mileage    price  \n",
       "0             four         111               21  13495.0  \n",
       "1             four         111               21  16500.0  \n",
       "2              six         154               19  16500.0  "
      ]
     },
     "execution_count": 6,
     "metadata": {},
     "output_type": "execute_result"
    }
   ],
   "source": [
    "load = pd.read_csv('automobile.csv')\n",
    "load.head(3)"
   ]
  },
  {
   "cell_type": "code",
   "execution_count": 3,
   "id": "6533f565",
   "metadata": {},
   "outputs": [
    {
     "data": {
      "text/plain": [
       "index                 int64\n",
       "company              object\n",
       "body-style           object\n",
       "wheel-base          float64\n",
       "length              float64\n",
       "engine-type          object\n",
       "num-of-cylinders     object\n",
       "horsepower            int64\n",
       "average-mileage       int64\n",
       "price               float64\n",
       "dtype: object"
      ]
     },
     "execution_count": 3,
     "metadata": {},
     "output_type": "execute_result"
    }
   ],
   "source": [
    "load.dtypes"
   ]
  },
  {
   "cell_type": "code",
   "execution_count": 4,
   "id": "7a9ba109",
   "metadata": {},
   "outputs": [
    {
     "data": {
      "text/plain": [
       "Index(['index', 'company', 'body-style', 'wheel-base', 'length', 'engine-type',\n",
       "       'num-of-cylinders', 'horsepower', 'average-mileage', 'price'],\n",
       "      dtype='object')"
      ]
     },
     "execution_count": 4,
     "metadata": {},
     "output_type": "execute_result"
    }
   ],
   "source": [
    "load.columns"
   ]
  },
  {
   "cell_type": "markdown",
   "id": "radical-apparatus",
   "metadata": {},
   "source": [
    "## Clean the Dataset\n",
    "Write a Python program to count the number of null values per each attribute. Then, remove all rows that have any missing values."
   ]
  },
  {
   "cell_type": "code",
   "execution_count": 4,
   "id": "hired-request",
   "metadata": {},
   "outputs": [
    {
     "name": "stdout",
     "output_type": "stream",
     "text": [
      "Null counts per attribute:\n",
      "\n",
      "index               0\n",
      "company             0\n",
      "body-style          0\n",
      "wheel-base          0\n",
      "length              0\n",
      "engine-type         0\n",
      "num-of-cylinders    0\n",
      "horsepower          0\n",
      "average-mileage     0\n",
      "price               3\n",
      "dtype: int64\n",
      "\n",
      "Number of rows after removing missing values: 58\n"
     ]
    }
   ],
   "source": [
    "# Count the number of null values per each attribute\n",
    "null_counts = load.isnull().sum()\n",
    "\n",
    "# Print the results\n",
    "print(f\"Null counts per attribute:\\n\")\n",
    "print(null_counts)\n",
    "\n",
    "# Remove rows that have any missing values\n",
    "load.dropna(inplace=True)\n",
    "\n",
    "# Print the number of rows after removing missing values\n",
    "print(\"\\nNumber of rows after removing missing values:\", len(load))\n"
   ]
  },
  {
   "cell_type": "markdown",
   "id": "involved-celebration",
   "metadata": {},
   "source": [
    "## Find the Maximum\n",
    "Write a Python program to find the name of the company whose car is the most expensive one."
   ]
  },
  {
   "cell_type": "code",
   "execution_count": 16,
   "id": "flush-quantum",
   "metadata": {},
   "outputs": [
    {
     "name": "stdout",
     "output_type": "stream",
     "text": [
      "alfa-romero: 16500.0\n",
      "audi: 18920.0\n",
      "bmw: 41315.0\n",
      "chevrolet: 6575.0\n",
      "dodge: 6377.0\n",
      "honda: 12945.0\n",
      "isuzu: 6785.0\n",
      "jaguar: 36000.0\n",
      "mazda: 18344.0\n",
      "mercedes-benz: 45400.0\n",
      "mitsubishi: 8189.0\n",
      "nissan: 13499.0\n",
      "porsche: 37028.0\n",
      "toyota: 15750.0\n",
      "volkswagen: 9995.0\n",
      "volvo: 13415.0\n",
      "\n",
      "The company with the most expensive car is mercedes-benz\n"
     ]
    }
   ],
   "source": [
    "# Create a dictionary to store the maximum price for each company\n",
    "max_prices = {}\n",
    "\n",
    "# Loop through the cars\n",
    "for index, row in load.iterrows():\n",
    "    # Get the company and price values\n",
    "    company = row['company']\n",
    "    price = row['price']\n",
    "    \n",
    "    if str(company) in max_prices:\n",
    "        if price > max_prices[str(company)]:\n",
    "            max_prices[str(company)] = price\n",
    "    else:\n",
    "        max_prices[str(company)] = price\n",
    "        \n",
    "# Print the max prices for each company\n",
    "for company, price in max_prices.items():\n",
    "    print(f\"{company}: {price}\")\n",
    "    \n",
    "# Find the company with the maximum price\n",
    "max_company = max(max_prices, key=max_prices.get)\n",
    "\n",
    "print(f\"\\nThe company with the most expensive car is\", max_company)\n"
   ]
  },
  {
   "cell_type": "markdown",
   "id": "delayed-relief",
   "metadata": {},
   "source": [
    "## Select Specific Rows\n",
    "Write a Python program to show all Toyota cars whose number of cylinders are equal to four."
   ]
  },
  {
   "cell_type": "code",
   "execution_count": 21,
   "id": "competent-shuttle",
   "metadata": {},
   "outputs": [
    {
     "name": "stdout",
     "output_type": "stream",
     "text": [
      "Toyota cars with four number of cylinders:\n",
      "      index company body-style  wheel-base  length engine-type num-of-cylinders  \\\n",
      "48     66  toyota  hatchback        95.7   158.7         ohc             four   \n",
      "49     67  toyota  hatchback        95.7   158.7         ohc             four   \n",
      "50     68  toyota  hatchback        95.7   158.7         ohc             four   \n",
      "51     69  toyota      wagon        95.7   169.7         ohc             four   \n",
      "52     70  toyota      wagon        95.7   169.7         ohc             four   \n",
      "53     71  toyota      wagon        95.7   169.7         ohc             four   \n",
      "\n",
      "    horsepower  average-mileage   price  \n",
      "48          62               35  5348.0  \n",
      "49          62               31  6338.0  \n",
      "50          62               31  6488.0  \n",
      "51          62               31  6918.0  \n",
      "52          62               27  7898.0  \n",
      "53          62               27  8778.0  \n"
     ]
    }
   ],
   "source": [
    "# Filter for Toyota cars with 4 cylinders\n",
    "toyota_4cyl = load[(load['company'] == 'toyota') & (load['num-of-cylinders'] == 'four')]\n",
    "\n",
    "# Display the results\n",
    "print(f\"Toyota cars with four number of cylinders:\\n \", toyota_4cyl)\n"
   ]
  },
  {
   "cell_type": "markdown",
   "id": "cardiovascular-engine",
   "metadata": {},
   "source": [
    "## Count per Category\n",
    "Write a Python program to count the number of cars that each company has."
   ]
  },
  {
   "cell_type": "code",
   "execution_count": 23,
   "id": "mobile-celebrity",
   "metadata": {},
   "outputs": [
    {
     "name": "stdout",
     "output_type": "stream",
     "text": [
      "The number of cars that each company has \n",
      " company\n",
      "alfa-romero      3\n",
      "audi             4\n",
      "bmw              6\n",
      "chevrolet        3\n",
      "dodge            2\n",
      "honda            3\n",
      "isuzu            1\n",
      "jaguar           3\n",
      "mazda            5\n",
      "mercedes-benz    4\n",
      "mitsubishi       4\n",
      "nissan           5\n",
      "porsche          2\n",
      "toyota           7\n",
      "volkswagen       4\n",
      "volvo            2\n",
      "Name: company, dtype: int64\n"
     ]
    }
   ],
   "source": [
    "# Group the dataset by company and count the number of cars for each company\n",
    "car_counts = load.groupby('company')['company'].count()\n",
    "\n",
    "# Print the result\n",
    "print(f\"The number of cars that each company has \\n\", car_counts)\n"
   ]
  },
  {
   "cell_type": "markdown",
   "id": "duplicate-beijing",
   "metadata": {},
   "source": [
    "## Aggregate per Category\n",
    "Write a Python program to find each company's highest car price."
   ]
  },
  {
   "cell_type": "code",
   "execution_count": 25,
   "id": "requested-surveillance",
   "metadata": {},
   "outputs": [
    {
     "name": "stdout",
     "output_type": "stream",
     "text": [
      "company's highest car price: \n",
      " company\n",
      "alfa-romero      16500.0\n",
      "audi             18920.0\n",
      "bmw              41315.0\n",
      "chevrolet         6575.0\n",
      "dodge             6377.0\n",
      "honda            12945.0\n",
      "isuzu             6785.0\n",
      "jaguar           36000.0\n",
      "mazda            18344.0\n",
      "mercedes-benz    45400.0\n",
      "mitsubishi        8189.0\n",
      "nissan           13499.0\n",
      "porsche          37028.0\n",
      "toyota           15750.0\n",
      "volkswagen        9995.0\n",
      "volvo            13415.0\n",
      "Name: price, dtype: float64\n"
     ]
    }
   ],
   "source": [
    "# group the car data by company and get the max price for each group\n",
    "highest_prices = load.groupby(\"company\")[\"price\"].max()\n",
    "\n",
    "# print the highest prices for each company\n",
    "print(f\"company's highest car price: \\n\", highest_prices)\n"
   ]
  },
  {
   "cell_type": "markdown",
   "id": "seven-bicycle",
   "metadata": {},
   "source": [
    "## Sort by Columns\n",
    "Write a Python program to sort the cars by their price, from the highest to lowest."
   ]
  },
  {
   "cell_type": "code",
   "execution_count": 30,
   "id": "8f9c0f82",
   "metadata": {},
   "outputs": [
    {
     "name": "stdout",
     "output_type": "stream",
     "text": [
      "    index        company   body-style  wheel-base  length engine-type  \\\n",
      "35     47  mercedes-benz      hardtop       112.0   199.2        ohcv   \n",
      "11     14            bmw        sedan       103.5   193.8         ohc   \n",
      "34     46  mercedes-benz        sedan       120.9   208.1        ohcv   \n",
      "46     62        porsche  convertible        89.5   168.9        ohcf   \n",
      "12     15            bmw        sedan       110.0   197.0         ohc   \n",
      "26     35         jaguar        sedan       102.0   191.7        ohcv   \n",
      "25     34         jaguar        sedan       113.0   199.6        dohc   \n",
      "45     61        porsche      hardtop        89.5   168.9        ohcf   \n",
      "24     33         jaguar        sedan       113.0   199.6        dohc   \n",
      "10     13            bmw        sedan       103.5   189.0         ohc   \n",
      "33     45  mercedes-benz        wagon       110.0   190.9         ohc   \n",
      "32     44  mercedes-benz        sedan       110.0   190.9         ohc   \n",
      "9      11            bmw        sedan       101.2   176.8         ohc   \n",
      "6       6           audi        wagon       105.8   192.7         ohc   \n",
      "31     43          mazda        sedan       104.9   175.0         ohc   \n",
      "4       4           audi        sedan        99.4   176.6         ohc   \n",
      "8      10            bmw        sedan       101.2   176.8         ohc   \n",
      "2       2    alfa-romero    hatchback        94.5   171.2        ohcv   \n",
      "1       1    alfa-romero  convertible        88.6   168.8        dohc   \n",
      "7       9            bmw        sedan       101.2   176.8         ohc   \n",
      "54     79         toyota        wagon       104.5   187.8        dohc   \n",
      "5       5           audi        sedan        99.8   177.3         ohc   \n",
      "3       3           audi        sedan        99.8   176.6         ohc   \n",
      "44     57         nissan        sedan       100.4   184.6        ohcv   \n",
      "0       0    alfa-romero  convertible        88.6   168.8        dohc   \n",
      "60     88          volvo        wagon       104.3   188.8         ohc   \n",
      "19     28          honda        sedan        96.5   175.4         ohc   \n",
      "59     87          volvo        sedan       104.3   188.8         ohc   \n",
      "30     39          mazda    hatchback        95.3   169.0       rotor   \n",
      "20     29          honda        sedan        96.5   169.1         ohc   \n",
      "58     86     volkswagen        sedan        97.3   171.7         ohc   \n",
      "53     71         toyota        wagon        95.7   169.7         ohc   \n",
      "39     52     mitsubishi        sedan        96.3   172.4         ohc   \n",
      "57     82     volkswagen        sedan        97.3   171.7         ohc   \n",
      "56     81     volkswagen        sedan        97.3   171.7         ohc   \n",
      "52     70         toyota        wagon        95.7   169.7         ohc   \n",
      "55     80     volkswagen        sedan        97.3   171.7         ohc   \n",
      "43     56         nissan        wagon        94.5   170.2         ohc   \n",
      "18     27          honda        wagon        96.5   157.1         ohc   \n",
      "40     53         nissan        sedan        94.5   165.3         ohc   \n",
      "38     51     mitsubishi        sedan        96.3   172.4         ohc   \n",
      "51     69         toyota        wagon        95.7   169.7         ohc   \n",
      "42     55         nissan        sedan        94.5   165.3         ohc   \n",
      "29     38          mazda    hatchback        93.1   159.1         ohc   \n",
      "21     30          isuzu        sedan        94.3   170.7         ohc   \n",
      "41     54         nissan        sedan        94.5   165.3         ohc   \n",
      "15     18      chevrolet        sedan        94.5   158.8         ohc   \n",
      "50     68         toyota    hatchback        95.7   158.7         ohc   \n",
      "16     19          dodge    hatchback        93.7   157.3         ohc   \n",
      "49     67         toyota    hatchback        95.7   158.7         ohc   \n",
      "14     17      chevrolet    hatchback        94.5   155.9         ohc   \n",
      "17     20          dodge    hatchback        93.7   157.3         ohc   \n",
      "37     50     mitsubishi    hatchback        93.7   157.3         ohc   \n",
      "28     37          mazda    hatchback        93.1   159.1         ohc   \n",
      "36     49     mitsubishi    hatchback        93.7   157.3         ohc   \n",
      "48     66         toyota    hatchback        95.7   158.7         ohc   \n",
      "27     36          mazda    hatchback        93.1   159.1         ohc   \n",
      "13     16      chevrolet    hatchback        88.4   141.1           l   \n",
      "\n",
      "   num-of-cylinders  horsepower  average-mileage    price  \n",
      "35            eight         184               14  45400.0  \n",
      "11              six         182               16  41315.0  \n",
      "34            eight         184               14  40960.0  \n",
      "46              six         207               17  37028.0  \n",
      "12              six         182               15  36880.0  \n",
      "26           twelve         262               13  36000.0  \n",
      "25              six         176               15  35550.0  \n",
      "45              six         207               17  34028.0  \n",
      "24              six         176               15  32250.0  \n",
      "10              six         182               16  30760.0  \n",
      "33             five         123               22  28248.0  \n",
      "32             five         123               22  25552.0  \n",
      "9               six         121               21  20970.0  \n",
      "6              five         110               19  18920.0  \n",
      "31             four          72               31  18344.0  \n",
      "4              five         115               18  17450.0  \n",
      "8              four         101               23  16925.0  \n",
      "2               six         154               19  16500.0  \n",
      "1              four         111               21  16500.0  \n",
      "7              four         101               23  16430.0  \n",
      "54              six         156               19  15750.0  \n",
      "5              five         110               19  15250.0  \n",
      "3              four         102               24  13950.0  \n",
      "44              six         152               19  13499.0  \n",
      "0              four         111               21  13495.0  \n",
      "60             four         114               23  13415.0  \n",
      "19             four         101               24  12945.0  \n",
      "59             four         114               23  12940.0  \n",
      "30              two         101               17  11845.0  \n",
      "20             four         100               25  10345.0  \n",
      "58             four         100               26   9995.0  \n",
      "53             four          62               27   8778.0  \n",
      "39             four          88               25   8189.0  \n",
      "57             four          52               37   7995.0  \n",
      "56             four          85               27   7975.0  \n",
      "52             four          62               27   7898.0  \n",
      "55             four          52               37   7775.0  \n",
      "43             four          69               31   7349.0  \n",
      "18             four          76               30   7295.0  \n",
      "40             four          55               45   7099.0  \n",
      "38             four          88               25   6989.0  \n",
      "51             four          62               31   6918.0  \n",
      "42             four          69               31   6849.0  \n",
      "29             four          68               31   6795.0  \n",
      "21             four          78               24   6785.0  \n",
      "41             four          69               31   6649.0  \n",
      "15             four          70               38   6575.0  \n",
      "50             four          62               31   6488.0  \n",
      "16             four          68               31   6377.0  \n",
      "49             four          62               31   6338.0  \n",
      "14             four          70               38   6295.0  \n",
      "17             four          68               31   6229.0  \n",
      "37             four          68               31   6189.0  \n",
      "28             four          68               31   6095.0  \n",
      "36             four          68               37   5389.0  \n",
      "48             four          62               35   5348.0  \n",
      "27             four          68               30   5195.0  \n",
      "13            three          48               47   5151.0  \n"
     ]
    }
   ],
   "source": [
    " #Sort the dataframe by price in descending order\n",
    "sorted_cars = load.sort_values(by='price', ascending=False)\n",
    "\n",
    "# Print the sorted dataframe\n",
    "print(sorted_cars)"
   ]
  },
  {
   "cell_type": "markdown",
   "id": "sitting-excess",
   "metadata": {},
   "source": [
    "## Merge two Datasets\n",
    "Write a Python program to merge the previous dataset with a new given dataset to add a country column to our dataset."
   ]
  },
  {
   "cell_type": "code",
   "execution_count": 49,
   "id": "comprehensive-buddy",
   "metadata": {},
   "outputs": [
    {
     "name": "stdout",
     "output_type": "stream",
     "text": [
      "    index      company   body-style  wheel-base  length engine-type  \\\n",
      "0       0  alfa-romero  convertible        88.6   168.8        dohc   \n",
      "1       1  alfa-romero  convertible        88.6   168.8        dohc   \n",
      "2       2  alfa-romero    hatchback        94.5   171.2        ohcv   \n",
      "3       3         audi        sedan        99.8   176.6         ohc   \n",
      "4       4         audi        sedan        99.4   176.6         ohc   \n",
      "..    ...          ...          ...         ...     ...         ...   \n",
      "56     81   volkswagen        sedan        97.3   171.7         ohc   \n",
      "57     82   volkswagen        sedan        97.3   171.7         ohc   \n",
      "58     86   volkswagen        sedan        97.3   171.7         ohc   \n",
      "59     87        volvo        sedan       104.3   188.8         ohc   \n",
      "60     88        volvo        wagon       104.3   188.8         ohc   \n",
      "\n",
      "   num-of-cylinders  horsepower  average-mileage    price  country  \n",
      "0              four         111               21  13495.0    Italy  \n",
      "1              four         111               21  16500.0    Italy  \n",
      "2               six         154               19  16500.0    Italy  \n",
      "3              four         102               24  13950.0  Germany  \n",
      "4              five         115               18  17450.0  Germany  \n",
      "..              ...         ...              ...      ...      ...  \n",
      "56             four          85               27   7975.0  Germany  \n",
      "57             four          52               37   7995.0  Germany  \n",
      "58             four         100               26   9995.0  Germany  \n",
      "59             four         114               23  12940.0   Sweden  \n",
      "60             four         114               23  13415.0   Sweden  \n",
      "\n",
      "[61 rows x 11 columns]\n"
     ]
    },
    {
     "data": {
      "text/html": [
       "<div>\n",
       "<style scoped>\n",
       "    .dataframe tbody tr th:only-of-type {\n",
       "        vertical-align: middle;\n",
       "    }\n",
       "\n",
       "    .dataframe tbody tr th {\n",
       "        vertical-align: top;\n",
       "    }\n",
       "\n",
       "    .dataframe thead th {\n",
       "        text-align: right;\n",
       "    }\n",
       "</style>\n",
       "<table border=\"1\" class=\"dataframe\">\n",
       "  <thead>\n",
       "    <tr style=\"text-align: right;\">\n",
       "      <th></th>\n",
       "      <th>index</th>\n",
       "      <th>company</th>\n",
       "      <th>body-style</th>\n",
       "      <th>wheel-base</th>\n",
       "      <th>length</th>\n",
       "      <th>engine-type</th>\n",
       "      <th>num-of-cylinders</th>\n",
       "      <th>horsepower</th>\n",
       "      <th>average-mileage</th>\n",
       "      <th>price</th>\n",
       "      <th>country</th>\n",
       "    </tr>\n",
       "  </thead>\n",
       "  <tbody>\n",
       "    <tr>\n",
       "      <th>0</th>\n",
       "      <td>0</td>\n",
       "      <td>alfa-romero</td>\n",
       "      <td>convertible</td>\n",
       "      <td>88.6</td>\n",
       "      <td>168.8</td>\n",
       "      <td>dohc</td>\n",
       "      <td>four</td>\n",
       "      <td>111</td>\n",
       "      <td>21</td>\n",
       "      <td>13495.0</td>\n",
       "      <td>Italy</td>\n",
       "    </tr>\n",
       "    <tr>\n",
       "      <th>1</th>\n",
       "      <td>1</td>\n",
       "      <td>alfa-romero</td>\n",
       "      <td>convertible</td>\n",
       "      <td>88.6</td>\n",
       "      <td>168.8</td>\n",
       "      <td>dohc</td>\n",
       "      <td>four</td>\n",
       "      <td>111</td>\n",
       "      <td>21</td>\n",
       "      <td>16500.0</td>\n",
       "      <td>Italy</td>\n",
       "    </tr>\n",
       "    <tr>\n",
       "      <th>2</th>\n",
       "      <td>2</td>\n",
       "      <td>alfa-romero</td>\n",
       "      <td>hatchback</td>\n",
       "      <td>94.5</td>\n",
       "      <td>171.2</td>\n",
       "      <td>ohcv</td>\n",
       "      <td>six</td>\n",
       "      <td>154</td>\n",
       "      <td>19</td>\n",
       "      <td>16500.0</td>\n",
       "      <td>Italy</td>\n",
       "    </tr>\n",
       "    <tr>\n",
       "      <th>3</th>\n",
       "      <td>3</td>\n",
       "      <td>audi</td>\n",
       "      <td>sedan</td>\n",
       "      <td>99.8</td>\n",
       "      <td>176.6</td>\n",
       "      <td>ohc</td>\n",
       "      <td>four</td>\n",
       "      <td>102</td>\n",
       "      <td>24</td>\n",
       "      <td>13950.0</td>\n",
       "      <td>Germany</td>\n",
       "    </tr>\n",
       "    <tr>\n",
       "      <th>4</th>\n",
       "      <td>4</td>\n",
       "      <td>audi</td>\n",
       "      <td>sedan</td>\n",
       "      <td>99.4</td>\n",
       "      <td>176.6</td>\n",
       "      <td>ohc</td>\n",
       "      <td>five</td>\n",
       "      <td>115</td>\n",
       "      <td>18</td>\n",
       "      <td>17450.0</td>\n",
       "      <td>Germany</td>\n",
       "    </tr>\n",
       "  </tbody>\n",
       "</table>\n",
       "</div>"
      ],
      "text/plain": [
       "   index      company   body-style  wheel-base  length engine-type  \\\n",
       "0      0  alfa-romero  convertible        88.6   168.8        dohc   \n",
       "1      1  alfa-romero  convertible        88.6   168.8        dohc   \n",
       "2      2  alfa-romero    hatchback        94.5   171.2        ohcv   \n",
       "3      3         audi        sedan        99.8   176.6         ohc   \n",
       "4      4         audi        sedan        99.4   176.6         ohc   \n",
       "\n",
       "  num-of-cylinders  horsepower  average-mileage    price  country  \n",
       "0             four         111               21  13495.0    Italy  \n",
       "1             four         111               21  16500.0    Italy  \n",
       "2              six         154               19  16500.0    Italy  \n",
       "3             four         102               24  13950.0  Germany  \n",
       "4             five         115               18  17450.0  Germany  "
      ]
     },
     "execution_count": 49,
     "metadata": {},
     "output_type": "execute_result"
    }
   ],
   "source": [
    "# load the previous dataset\n",
    "df1 = pd.read_csv(\"automobile.csv\")\n",
    "\n",
    "# create the new dataset\n",
    "df2 = pd.DataFrame({\n",
    "    \"company\": [\"audi\", \"bmw\", \"chevrolet\", \"dodge\", \"honda\", \"jaguar\", \"toyota\",\"volkswagen\", \"alfa-romero\", \"volvo\", \"nissan\", \"porsche\"],\n",
    "    \"country\": [\"Germany\", \"Germany\", \"USA\", \"USA\", \"Japan\", \"UK\", \"Japan\", \"Germany\", \"Italy\", \"Sweden\", \"Japan\", \"Germany\"]\n",
    "})\n",
    "\n",
    "# merge the two datasets on the \"company\" column\n",
    "df = pd.merge(df1, df2, on=\"company\", how=\"left\")\n",
    "\n",
    "# print the merged dataset\n",
    "#print(df2)\n",
    "\n",
    "print(df)\n",
    "\n",
    "df.head()"
   ]
  },
  {
   "cell_type": "code",
   "execution_count": 51,
   "id": "773e2ac8",
   "metadata": {},
   "outputs": [
    {
     "name": "stdout",
     "output_type": "stream",
     "text": [
      "        company  country\n",
      "0   alfa-romero    Italy\n",
      "1   alfa-romero    Italy\n",
      "2   alfa-romero    Italy\n",
      "3          audi  Germany\n",
      "4          audi  Germany\n",
      "..          ...      ...\n",
      "56   volkswagen  Germany\n",
      "57   volkswagen  Germany\n",
      "58   volkswagen  Germany\n",
      "59        volvo   Sweden\n",
      "60        volvo   Sweden\n",
      "\n",
      "[61 rows x 2 columns]\n"
     ]
    }
   ],
   "source": [
    "com_cou = df[['company', 'country']]\n",
    "print(com_cou)"
   ]
  },
  {
   "cell_type": "markdown",
   "id": "south-zimbabwe",
   "metadata": {},
   "source": [
    "## Apply a Function\n",
    "Write a Python program that transforms the column \"num-of-cylinders\" from strig to integer. For example, all the \"four\" values in this column should be changed to 4."
   ]
  },
  {
   "cell_type": "code",
   "execution_count": 47,
   "id": "mediterranean-mozambique",
   "metadata": {},
   "outputs": [
    {
     "name": "stdout",
     "output_type": "stream",
     "text": [
      "   index      company   body-style  wheel-base  length engine-type  \\\n",
      "0      0  alfa-romero  convertible        88.6   168.8        dohc   \n",
      "1      1  alfa-romero  convertible        88.6   168.8        dohc   \n",
      "2      2  alfa-romero    hatchback        94.5   171.2        ohcv   \n",
      "3      3         audi        sedan        99.8   176.6         ohc   \n",
      "4      4         audi        sedan        99.4   176.6         ohc   \n",
      "\n",
      "   num-of-cylinders  horsepower  average-mileage    price  \n",
      "0                 4         111               21  13495.0  \n",
      "1                 4         111               21  16500.0  \n",
      "2                 6         154               19  16500.0  \n",
      "3                 4         102               24  13950.0  \n",
      "4                 5         115               18  17450.0  \n"
     ]
    }
   ],
   "source": [
    "data = pd.read_csv('automobile.csv')\n",
    "# define a dictionary to map string values to integer values\n",
    "cylinder_map = {'four': 4, 'five': 5, 'six': 6, 'eight': 8, 'two': 2, 'three': 3, 'twelve': 12}\n",
    "\n",
    "# apply the mapping to the 'num-of-cylinders' column\n",
    "data['num-of-cylinders'] = data['num-of-cylinders'].apply(lambda x: cylinder_map[x])\n",
    "\n",
    "print(data.head())"
   ]
  },
  {
   "cell_type": "code",
   "execution_count": null,
   "id": "0a826b29",
   "metadata": {},
   "outputs": [],
   "source": []
  }
 ],
 "metadata": {
  "kernelspec": {
   "display_name": "Python 3 (ipykernel)",
   "language": "python",
   "name": "python3"
  },
  "language_info": {
   "codemirror_mode": {
    "name": "ipython",
    "version": 3
   },
   "file_extension": ".py",
   "mimetype": "text/x-python",
   "name": "python",
   "nbconvert_exporter": "python",
   "pygments_lexer": "ipython3",
   "version": "3.9.12"
  }
 },
 "nbformat": 4,
 "nbformat_minor": 5
}
