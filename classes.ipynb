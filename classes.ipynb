{
 "cells": [
  {
   "cell_type": "markdown",
   "id": "isolated-catholic",
   "metadata": {},
   "source": [
    "# Classes"
   ]
  },
  {
   "cell_type": "markdown",
   "id": "valuable-coupon",
   "metadata": {},
   "source": [
    "## Course Class\n",
    "Define a course class with the followings:\n",
    "- A `code` attribute.\n",
    "- A `name` attribute.\n",
    "- A `credits` attribute.\n",
    "- A `semester` attribute.\n",
    "- An `instructor` attribute.\n",
    "- An `__init__` method.\n",
    "- A `__str__` method."
   ]
  },
  {
   "cell_type": "code",
   "execution_count": 1,
   "id": "e6eee1fd",
   "metadata": {},
   "outputs": [],
   "source": [
    "class Course:\n",
    "    def __init__(self, code, name, credits, semester, instructor):\n",
    "        self.code = code\n",
    "        self.name = name\n",
    "        self.credits = credits\n",
    "        self.semester = semester\n",
    "        self.instructor = instructor\n",
    "\n",
    "    def __str__(self):\n",
    "        return f\"{self.name} ({self.code}): {self.credits} credits, {self.semester}, taught by {self.instructor}\"\n"
   ]
  },
  {
   "cell_type": "markdown",
   "id": "995dab45",
   "metadata": {},
   "source": [
    "## Student Class\n",
    "Define a student class with the followings:\n",
    "- A `first_name` attribute.\n",
    "- A `last_name` attribute.\n",
    "- An `number` attribute.\n",
    "- A `courses` attribute that stores a dictionary of passed **course objects** and their mark.\n",
    "- An `__init__` method.\n",
    "- A `__str__` method.\n",
    "- A `get_gpa` method.\n",
    "- A `set_course_mark` method."
   ]
  },
  {
   "cell_type": "code",
   "execution_count": 2,
   "id": "according-purse",
   "metadata": {},
   "outputs": [],
   "source": [
    "class Student:\n",
    "    def __init__(self, first_name, last_name, number):\n",
    "        self.first_name = first_name\n",
    "        self.last_name = last_name\n",
    "        self.number = number\n",
    "        self.courses = {}\n",
    "\n",
    "    def __str__(self):\n",
    "        return f\"{self.first_name} {self.last_name} ({self.number})\"\n",
    "\n",
    "    def get_gpa(self):\n",
    "        total_credits = 0\n",
    "        total_grade_points = 0\n",
    "        for course, mark in self.courses.items():\n",
    "            total_credits += course.credits\n",
    "            total_grade_points += mark * course.credits\n",
    "        return round(total_grade_points / total_credits, 2) if total_credits > 0 else 0\n",
    "\n",
    "    def set_course_mark(self, course, mark):\n",
    "        if mark < 0 or mark > 100:\n",
    "            raise ValueError(\"Mark must be between 0 and 100\")\n",
    "        self.courses[course] = mark\n"
   ]
  },
  {
   "cell_type": "markdown",
   "id": "palestinian-expert",
   "metadata": {},
   "source": [
    "## University Class\n",
    "Define a university class with the followings:\n",
    "- A `name` attribute.\n",
    "- A `students` attribute that stores a list of **student objects**.\n",
    "- An `__init__` method.\n",
    "- A `__str__` method.\n",
    "- A `register_student` method.\n",
    "- A `graduate_student` method."
   ]
  },
  {
   "cell_type": "code",
   "execution_count": 3,
   "id": "going-custom",
   "metadata": {},
   "outputs": [],
   "source": [
    "class University:\n",
    "    def __init__(self, name):\n",
    "        self.name = name\n",
    "        self.students = []\n",
    "    \n",
    "    def __str__(self):\n",
    "        return f\"University {self.name} has {len(self.students)} students\"\n",
    "    \n",
    "    def register_student(self, student):\n",
    "        self.students.append(student)\n",
    "    \n",
    "    def graduate_student(self, student):\n",
    "        if student in self.students:\n",
    "            self.students.remove(student)\n",
    "            print(f\"{student.first_name} {student.last_name} has graduated from {self.name}\")\n",
    "        else:\n",
    "            print(f\"{student.first_name} {student.last_name} is not a student at {self.name}\")\n"
   ]
  },
  {
   "cell_type": "code",
   "execution_count": null,
   "id": "2c5db695",
   "metadata": {},
   "outputs": [],
   "source": []
  }
 ],
 "metadata": {
  "kernelspec": {
   "display_name": "Python 3 (ipykernel)",
   "language": "python",
   "name": "python3"
  },
  "language_info": {
   "codemirror_mode": {
    "name": "ipython",
    "version": 3
   },
   "file_extension": ".py",
   "mimetype": "text/x-python",
   "name": "python",
   "nbconvert_exporter": "python",
   "pygments_lexer": "ipython3",
   "version": "3.9.12"
  }
 },
 "nbformat": 4,
 "nbformat_minor": 5
}
