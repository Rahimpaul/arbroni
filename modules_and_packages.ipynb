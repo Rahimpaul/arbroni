{
 "cells": [
  {
   "cell_type": "markdown",
   "id": "bibliographic-edward",
   "metadata": {},
   "source": [
    "# Modules and Packages"
   ]
  },
  {
   "cell_type": "markdown",
   "id": "actual-chinese",
   "metadata": {},
   "source": [
    "## os\n",
    "Write a Python program to print the list of files in the current folder and their absolute path."
   ]
  },
  {
   "cell_type": "code",
   "execution_count": 3,
   "id": "tender-colombia",
   "metadata": {},
   "outputs": [
    {
     "name": "stdout",
     "output_type": "stream",
     "text": [
      "google_colab_tutorial.html: /Users/rahimbroni/Documents/GISMA/M504-AI AND APP/python/google_colab_tutorial.html\n",
      "table_processing_with_pandas.ipynb: /Users/rahimbroni/Documents/GISMA/M504-AI AND APP/python/table_processing_with_pandas.ipynb\n",
      "exception_handling.ipynb: /Users/rahimbroni/Documents/GISMA/M504-AI AND APP/python/exception_handling.ipynb\n",
      "array_processing_with_numpy.ipynb: /Users/rahimbroni/Documents/GISMA/M504-AI AND APP/python/array_processing_with_numpy.ipynb\n",
      "control_statements.ipynb: /Users/rahimbroni/Documents/GISMA/M504-AI AND APP/python/control_statements.ipynb\n",
      "my_dict.pickle: /Users/rahimbroni/Documents/GISMA/M504-AI AND APP/python/my_dict.pickle\n",
      "modules_and_packages.ipynb: /Users/rahimbroni/Documents/GISMA/M504-AI AND APP/python/modules_and_packages.ipynb\n",
      "file_handling.ipynb: /Users/rahimbroni/Documents/GISMA/M504-AI AND APP/python/file_handling.ipynb\n",
      "expressions.ipynb: /Users/rahimbroni/Documents/GISMA/M504-AI AND APP/python/expressions.ipynb\n",
      "google_colab_tutorial.ipynb: /Users/rahimbroni/Documents/GISMA/M504-AI AND APP/python/google_colab_tutorial.ipynb\n",
      "functions.ipynb: /Users/rahimbroni/Documents/GISMA/M504-AI AND APP/python/functions.ipynb\n",
      "classes.ipynb: /Users/rahimbroni/Documents/GISMA/M504-AI AND APP/python/classes.ipynb\n",
      "data_types.ipynb: /Users/rahimbroni/Documents/GISMA/M504-AI AND APP/python/data_types.ipynb\n",
      ".ipynb_checkpoints: /Users/rahimbroni/Documents/GISMA/M504-AI AND APP/python/.ipynb_checkpoints\n",
      "my_dict.json: /Users/rahimbroni/Documents/GISMA/M504-AI AND APP/python/my_dict.json\n",
      ".idea: /Users/rahimbroni/Documents/GISMA/M504-AI AND APP/python/.idea\n"
     ]
    }
   ],
   "source": [
    "import os\n",
    "\n",
    "# Get the current directory\n",
    "current_dir = os.getcwd()\n",
    "\n",
    "# Get a list of all files in the current directory\n",
    "files = os.listdir(current_dir)\n",
    "\n",
    "# Print the list of files and their absolute path\n",
    "for file in files:\n",
    "    # Join the file name with the current directory to get the absolute path\n",
    "    abs_path = os.path.join(current_dir, file)\n",
    "    print(f\"{file}: {abs_path}\")\n",
    "\n",
    "    for file in os.listdir(current_dir):\n",
    "    if os.path.isfile(os.path.join(current_dir, file)):\n",
    "        print(os.path.abspath(file))"
   ]
  },
  {
   "cell_type": "code",
   "execution_count": 4,
   "id": "60882437",
   "metadata": {},
   "outputs": [
    {
     "name": "stdout",
     "output_type": "stream",
     "text": [
      "/Users/rahimbroni/Documents/GISMA/M504-AI AND APP/python/google_colab_tutorial.html\n",
      "/Users/rahimbroni/Documents/GISMA/M504-AI AND APP/python/table_processing_with_pandas.ipynb\n",
      "/Users/rahimbroni/Documents/GISMA/M504-AI AND APP/python/exception_handling.ipynb\n",
      "/Users/rahimbroni/Documents/GISMA/M504-AI AND APP/python/array_processing_with_numpy.ipynb\n",
      "/Users/rahimbroni/Documents/GISMA/M504-AI AND APP/python/control_statements.ipynb\n",
      "/Users/rahimbroni/Documents/GISMA/M504-AI AND APP/python/my_dict.pickle\n",
      "/Users/rahimbroni/Documents/GISMA/M504-AI AND APP/python/modules_and_packages.ipynb\n",
      "/Users/rahimbroni/Documents/GISMA/M504-AI AND APP/python/file_handling.ipynb\n",
      "/Users/rahimbroni/Documents/GISMA/M504-AI AND APP/python/expressions.ipynb\n",
      "/Users/rahimbroni/Documents/GISMA/M504-AI AND APP/python/google_colab_tutorial.ipynb\n",
      "/Users/rahimbroni/Documents/GISMA/M504-AI AND APP/python/functions.ipynb\n",
      "/Users/rahimbroni/Documents/GISMA/M504-AI AND APP/python/classes.ipynb\n",
      "/Users/rahimbroni/Documents/GISMA/M504-AI AND APP/python/data_types.ipynb\n",
      "/Users/rahimbroni/Documents/GISMA/M504-AI AND APP/python/my_dict.json\n"
     ]
    }
   ],
   "source": [
    "import os\n",
    "\n",
    "# Get the current directory path\n",
    "current_dir = os.getcwd()\n",
    "\n",
    "# Print the list of files and their absolute paths in the current directory\n",
    "for file in os.listdir(current_dir):\n",
    "    if os.path.isfile(os.path.join(current_dir, file)):\n",
    "        print(os.path.abspath(file))\n"
   ]
  },
  {
   "cell_type": "markdown",
   "id": "burning-montreal",
   "metadata": {},
   "source": [
    "## math\n",
    "Write a Python program that finds the maximum of log$_2 10000$ and $ e^e $."
   ]
  },
  {
   "cell_type": "code",
   "execution_count": 2,
   "id": "saved-craft",
   "metadata": {},
   "outputs": [
    {
     "name": "stdout",
     "output_type": "stream",
     "text": [
      "13.287712379549449\n"
     ]
    }
   ],
   "source": [
    "import math\n",
    "\n",
    "# calculate log2(10000)\n",
    "log2_val = math.log2(10000)\n",
    "\n",
    "# calculate e\n",
    "e_val = math.e\n",
    "\n",
    "# find the maximum value\n",
    "max_val = max(log2_val, e_val)\n",
    "\n",
    "# print the maximum value\n",
    "print(max_val)"
   ]
  },
  {
   "cell_type": "markdown",
   "id": "opponent-morning",
   "metadata": {},
   "source": [
    "## random\n",
    "Write a Python function that takes a probability between 0.0 and 1.0 and returns `True` with that probability. For example, if the input probability is 0.3, the function should return `True` in the 30\\% of times and `False` in the 70\\% of times."
   ]
  },
  {
   "cell_type": "code",
   "execution_count": 3,
   "id": "global-alpha",
   "metadata": {},
   "outputs": [],
   "source": [
    "import random\n",
    "\n",
    "def check_probability(probability):\n",
    "    return random.random() < probability\n"
   ]
  },
  {
   "cell_type": "code",
   "execution_count": 4,
   "id": "7a3911e7",
   "metadata": {},
   "outputs": [
    {
     "name": "stdout",
     "output_type": "stream",
     "text": [
      "False\n",
      "False\n",
      "False\n",
      "True\n",
      "False\n",
      "True\n",
      "True\n",
      "False\n",
      "False\n",
      "False\n"
     ]
    }
   ],
   "source": [
    "for i in range(10):\n",
    "    result = check_probability(0.3)\n",
    "    print(result)"
   ]
  },
  {
   "cell_type": "markdown",
   "id": "novel-rotation",
   "metadata": {},
   "source": [
    "## pickle\n",
    "Write a Python program to store a dictionary on the hard disk and load it again."
   ]
  },
  {
   "cell_type": "code",
   "execution_count": 5,
   "id": "convinced-fault",
   "metadata": {},
   "outputs": [
    {
     "name": "stdout",
     "output_type": "stream",
     "text": [
      "{'name': 'John', 'age': 30, 'city': 'New York'}\n"
     ]
    }
   ],
   "source": [
    "import pickle\n",
    "\n",
    "# Define a dictionary to be stored\n",
    "my_dict = {\"name\": \"John\", \"age\": 30, \"city\": \"New York\"}\n",
    "\n",
    "# Store the dictionary in a file named \"my_dict.pickle\"\n",
    "with open(\"my_dict.pickle\", \"wb\") as file:\n",
    "    pickle.dump(my_dict, file)\n",
    "\n",
    "# Load the dictionary from the file\n",
    "with open(\"my_dict.pickle\", \"rb\") as file:\n",
    "    loaded_dict = pickle.load(file)\n",
    "\n",
    "# Print the loaded dictionary\n",
    "print(loaded_dict)\n"
   ]
  },
  {
   "cell_type": "markdown",
   "id": "scientific-timer",
   "metadata": {},
   "source": [
    "## json\n",
    "Write a Python program to store a dictionary as a json file on the hard disk and load it again."
   ]
  },
  {
   "cell_type": "code",
   "execution_count": 2,
   "id": "western-resident",
   "metadata": {},
   "outputs": [
    {
     "name": "stdout",
     "output_type": "stream",
     "text": [
      "{'name': 'Inna', 'age': '23', 'city': 'Stuttgart'}\n"
     ]
    }
   ],
   "source": [
    "import json\n",
    "\n",
    "# create a dictionary\n",
    "my_dict = {\"name\": \"Inna\", \"age\": \"23\", \"city\": \"Stuttgart\"}\n",
    "\n",
    "# write the dictionary to a JSON file\n",
    "with open(\"my_dict.json\", \"w\") as f:\n",
    "    json.dump(my_dict, f)\n",
    "\n",
    "# read the JSON file and load it into a dictionary\n",
    "with open(\"my_dict.json\", \"r\") as f:\n",
    "    loaded_dict = json.load(f)\n",
    "\n",
    "# print the loaded dictionary\n",
    "print(loaded_dict)\n"
   ]
  },
  {
   "cell_type": "markdown",
   "id": "hidden-quick",
   "metadata": {},
   "source": [
    "## re\n",
    "Write a function that takes a string as input and returns `True` if the format of the string matches the format of an email address."
   ]
  },
  {
   "cell_type": "code",
   "execution_count": 1,
   "id": "cloudy-visiting",
   "metadata": {},
   "outputs": [],
   "source": [
    "import re\n",
    "\n",
    "def is_email(string):\n",
    "    \"\"\"Returns True if the given string matches the format of an email address\"\"\"\n",
    "    pattern = r'^[a-zA-Z0-9._%+-]+@[a-zA-Z0-9.-]+\\.[a-zA-Z]{2,}$'\n",
    "    return bool(re.match(pattern, string))\n"
   ]
  },
  {
   "cell_type": "code",
   "execution_count": null,
   "id": "feb5ddde",
   "metadata": {},
   "outputs": [],
   "source": []
  }
 ],
 "metadata": {
  "kernelspec": {
   "display_name": "Python 3 (ipykernel)",
   "language": "python",
   "name": "python3"
  },
  "language_info": {
   "codemirror_mode": {
    "name": "ipython",
    "version": 3
   },
   "file_extension": ".py",
   "mimetype": "text/x-python",
   "name": "python",
   "nbconvert_exporter": "python",
   "pygments_lexer": "ipython3",
   "version": "3.9.12"
  }
 },
 "nbformat": 4,
 "nbformat_minor": 5
}
